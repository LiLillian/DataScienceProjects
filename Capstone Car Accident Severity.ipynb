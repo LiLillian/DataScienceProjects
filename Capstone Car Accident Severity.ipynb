{
 "cells": [
  {
   "cell_type": "markdown",
   "metadata": {
    "button": false,
    "new_sheet": false,
    "run_control": {
     "read_only": false
    }
   },
   "source": [
    "# Capstone Project - Car Accident Severity\n",
    "\n",
    "Completed by Qiushan (Lillian) Li. October 2020."
   ]
  },
  {
   "cell_type": "markdown",
   "metadata": {
    "button": false,
    "new_sheet": false,
    "run_control": {
     "read_only": false
    }
   },
   "source": [
    "In this notebook we predict the collision severity using machine learning classification algorithms using the Canada-wide dataset.\n",
    "\n",
    "We load a dataset using Pandas library, and apply the following algorithms, and find the best one for this specific dataset by accuracy evaluation methods.\n",
    "\n",
    "Lets first load required libraries:"
   ]
  },
  {
   "cell_type": "code",
   "execution_count": 1,
   "metadata": {
    "button": false,
    "new_sheet": false,
    "run_control": {
     "read_only": false
    }
   },
   "outputs": [],
   "source": [
    "import itertools\n",
    "import numpy as np\n",
    "import pandas as pd\n",
    "import matplotlib.pyplot as plt\n",
    "from matplotlib.ticker import NullFormatter\n",
    "import matplotlib.ticker as ticker\n",
    "from sklearn import preprocessing\n",
    "%matplotlib inline"
   ]
  },
  {
   "cell_type": "markdown",
   "metadata": {
    "button": false,
    "new_sheet": false,
    "run_control": {
     "read_only": false
    }
   },
   "source": [
    "# 1. Data Exploration\n",
    "### About dataset"
   ]
  },
  {
   "cell_type": "markdown",
   "metadata": {
    "button": false,
    "new_sheet": false,
    "run_control": {
     "read_only": false
    }
   },
   "source": [
    "The dataset that this project uses is the National Collision Database (NCDB). The NCDB recorded nearly 290,000 cases of police-reported motor vehicle collisions on public roads in Canada during the year of 2017. It includes following fields:\n",
    "\n",
    "| Data Elements  | Definition                                    |\n",
    "|----------------|-----------------------------------------------|\n",
    "| C_YEAR         | Year                                          |\n",
    "| C_MNTH         | Month                                         |\n",
    "| C_WDAY         | Day of week                                   |\n",
    "| C_HOUR         | Collision hour                                |\n",
    "| C_SEV          | Collision severity                            |\n",
    "| C_VEHS         | Number of vehicles involved in collision      |\n",
    "| C_CONF         | Collision configuration                       |\n",
    "| C_RCFG         | Roadway configuration                         |\n",
    "| C_WTHR         | Weather condition                             |\n",
    "| C_RSUR         | Road surface                                  |\n",
    "| C_RALN         | Road alignment                                |\n",
    "| C_TRAF         | Traffic control                               |\n",
    "\n",
    "| V_ID           | Vehicle sequence number                       |\n",
    "| V_TYPE         | Vehicle type                                  |\n",
    "| V_YEAR         | Vehicle model year                            |\n",
    "\n",
    "| P_ID           | Person sequence number                        |\n",
    "| P_SEX          | Person sex                                    |\n",
    "| P_AGE          | Person age |\n",
    "| P_PSN          | Person position                               |\n",
    "| P_ISEV         | Medical treatment required                    |\n",
    "| P_SAFE         | Safety device used                            |\n",
    "| P_USER         | Road user class                               |\n"
   ]
  },
  {
   "cell_type": "markdown",
   "metadata": {
    "button": false,
    "new_sheet": false,
    "run_control": {
     "read_only": false
    }
   },
   "source": [
    "Lets download the dataset and save it as the unbalanced dataframe."
   ]
  },
  {
   "cell_type": "code",
   "execution_count": 3,
   "metadata": {},
   "outputs": [
    {
     "name": "stderr",
     "output_type": "stream",
     "text": [
      "/opt/conda/envs/Python36/lib/python3.6/site-packages/IPython/core/interactiveshell.py:3020: DtypeWarning: Columns (1,2,5,12) have mixed types. Specify dtype option on import or set low_memory=False.\n",
      "  interactivity=interactivity, compiler=compiler, result=result)\n"
     ]
    },
    {
     "data": {
      "text/html": [
       "<div>\n",
       "<style scoped>\n",
       "    .dataframe tbody tr th:only-of-type {\n",
       "        vertical-align: middle;\n",
       "    }\n",
       "\n",
       "    .dataframe tbody tr th {\n",
       "        vertical-align: top;\n",
       "    }\n",
       "\n",
       "    .dataframe thead th {\n",
       "        text-align: right;\n",
       "    }\n",
       "</style>\n",
       "<table border=\"1\" class=\"dataframe\">\n",
       "  <thead>\n",
       "    <tr style=\"text-align: right;\">\n",
       "      <th></th>\n",
       "      <th>C_YEAR</th>\n",
       "      <th>C_MNTH</th>\n",
       "      <th>C_WDAY</th>\n",
       "      <th>C_HOUR</th>\n",
       "      <th>C_SEV</th>\n",
       "      <th>C_VEHS</th>\n",
       "      <th>C_CONF</th>\n",
       "      <th>C_RCFG</th>\n",
       "      <th>C_WTHR</th>\n",
       "      <th>C_RSUR</th>\n",
       "      <th>...</th>\n",
       "      <th>V_TYPE</th>\n",
       "      <th>V_YEAR</th>\n",
       "      <th>P_ID</th>\n",
       "      <th>P_SEX</th>\n",
       "      <th>P_AGE</th>\n",
       "      <th>P_PSN</th>\n",
       "      <th>P_ISEV</th>\n",
       "      <th>P_SAFE</th>\n",
       "      <th>P_USER</th>\n",
       "      <th>C_CASE</th>\n",
       "    </tr>\n",
       "  </thead>\n",
       "  <tbody>\n",
       "    <tr>\n",
       "      <th>0</th>\n",
       "      <td>2017</td>\n",
       "      <td>1</td>\n",
       "      <td>1</td>\n",
       "      <td>10</td>\n",
       "      <td>2</td>\n",
       "      <td>1</td>\n",
       "      <td>02</td>\n",
       "      <td>03</td>\n",
       "      <td>1</td>\n",
       "      <td>3</td>\n",
       "      <td>...</td>\n",
       "      <td>01</td>\n",
       "      <td>UUUU</td>\n",
       "      <td>01</td>\n",
       "      <td>M</td>\n",
       "      <td>75</td>\n",
       "      <td>11</td>\n",
       "      <td>2</td>\n",
       "      <td>NN</td>\n",
       "      <td>1</td>\n",
       "      <td>2455950</td>\n",
       "    </tr>\n",
       "    <tr>\n",
       "      <th>1</th>\n",
       "      <td>2017</td>\n",
       "      <td>1</td>\n",
       "      <td>1</td>\n",
       "      <td>12</td>\n",
       "      <td>2</td>\n",
       "      <td>1</td>\n",
       "      <td>04</td>\n",
       "      <td>UU</td>\n",
       "      <td>1</td>\n",
       "      <td>5</td>\n",
       "      <td>...</td>\n",
       "      <td>01</td>\n",
       "      <td>UUUU</td>\n",
       "      <td>01</td>\n",
       "      <td>F</td>\n",
       "      <td>21</td>\n",
       "      <td>11</td>\n",
       "      <td>2</td>\n",
       "      <td>02</td>\n",
       "      <td>1</td>\n",
       "      <td>2455959</td>\n",
       "    </tr>\n",
       "    <tr>\n",
       "      <th>2</th>\n",
       "      <td>2017</td>\n",
       "      <td>1</td>\n",
       "      <td>1</td>\n",
       "      <td>00</td>\n",
       "      <td>2</td>\n",
       "      <td>1</td>\n",
       "      <td>03</td>\n",
       "      <td>UU</td>\n",
       "      <td>7</td>\n",
       "      <td>3</td>\n",
       "      <td>...</td>\n",
       "      <td>01</td>\n",
       "      <td>UUUU</td>\n",
       "      <td>01</td>\n",
       "      <td>F</td>\n",
       "      <td>34</td>\n",
       "      <td>11</td>\n",
       "      <td>2</td>\n",
       "      <td>02</td>\n",
       "      <td>1</td>\n",
       "      <td>2455998</td>\n",
       "    </tr>\n",
       "    <tr>\n",
       "      <th>3</th>\n",
       "      <td>2017</td>\n",
       "      <td>1</td>\n",
       "      <td>1</td>\n",
       "      <td>17</td>\n",
       "      <td>2</td>\n",
       "      <td>2</td>\n",
       "      <td>21</td>\n",
       "      <td>UU</td>\n",
       "      <td>1</td>\n",
       "      <td>1</td>\n",
       "      <td>...</td>\n",
       "      <td>01</td>\n",
       "      <td>UUUU</td>\n",
       "      <td>01</td>\n",
       "      <td>F</td>\n",
       "      <td>50</td>\n",
       "      <td>11</td>\n",
       "      <td>2</td>\n",
       "      <td>02</td>\n",
       "      <td>1</td>\n",
       "      <td>2456104</td>\n",
       "    </tr>\n",
       "    <tr>\n",
       "      <th>4</th>\n",
       "      <td>2017</td>\n",
       "      <td>1</td>\n",
       "      <td>1</td>\n",
       "      <td>17</td>\n",
       "      <td>2</td>\n",
       "      <td>2</td>\n",
       "      <td>21</td>\n",
       "      <td>UU</td>\n",
       "      <td>1</td>\n",
       "      <td>1</td>\n",
       "      <td>...</td>\n",
       "      <td>01</td>\n",
       "      <td>UUUU</td>\n",
       "      <td>01</td>\n",
       "      <td>M</td>\n",
       "      <td>63</td>\n",
       "      <td>11</td>\n",
       "      <td>1</td>\n",
       "      <td>NN</td>\n",
       "      <td>1</td>\n",
       "      <td>2456104</td>\n",
       "    </tr>\n",
       "  </tbody>\n",
       "</table>\n",
       "<p>5 rows × 23 columns</p>\n",
       "</div>"
      ],
      "text/plain": [
       "   C_YEAR C_MNTH C_WDAY C_HOUR  C_SEV C_VEHS C_CONF C_RCFG C_WTHR C_RSUR  ...  \\\n",
       "0    2017      1      1     10      2      1     02     03      1      3  ...   \n",
       "1    2017      1      1     12      2      1     04     UU      1      5  ...   \n",
       "2    2017      1      1     00      2      1     03     UU      7      3  ...   \n",
       "3    2017      1      1     17      2      2     21     UU      1      1  ...   \n",
       "4    2017      1      1     17      2      2     21     UU      1      1  ...   \n",
       "\n",
       "  V_TYPE V_YEAR P_ID P_SEX P_AGE P_PSN P_ISEV P_SAFE P_USER   C_CASE  \n",
       "0     01   UUUU   01     M    75    11      2     NN      1  2455950  \n",
       "1     01   UUUU   01     F    21    11      2     02      1  2455959  \n",
       "2     01   UUUU   01     F    34    11      2     02      1  2455998  \n",
       "3     01   UUUU   01     F    50    11      2     02      1  2456104  \n",
       "4     01   UUUU   01     M    63    11      1     NN      1  2456104  \n",
       "\n",
       "[5 rows x 23 columns]"
      ]
     },
     "execution_count": 3,
     "metadata": {},
     "output_type": "execute_result"
    }
   ],
   "source": [
    "csv_path=\"https://opendatatc.blob.core.windows.net/opendatatc/NCDB_2017.csv\"\n",
    "df_unbalanced = pd.read_csv (csv_path)\n",
    "df_unbalanced.head()"
   ]
  },
  {
   "cell_type": "markdown",
   "metadata": {
    "button": false,
    "new_sheet": false,
    "run_control": {
     "read_only": false
    }
   },
   "source": [
    "## 2.1 Data Imbalance Issue"
   ]
  },
  {
   "cell_type": "markdown",
   "metadata": {},
   "source": [
    "The NCDB dataset suffers from the data imbalance issue, since it is fortunately relatively rare for collision to result in fatalities, compared to non-fatal injuries. Out of the total 289,841 cases of collisions reported, only 4,468 of them were fatal cases. This might cause bias in machine learning model predictions. Therefore, I balanced the dataset by having 5,000 non-fatal rows randomly selected from the entire dataset. Together with the 4,468 fatal rows, the balanced dataset has 9,946 rows of data."
   ]
  },
  {
   "cell_type": "code",
   "execution_count": 4,
   "metadata": {},
   "outputs": [
    {
     "data": {
      "text/plain": [
       "(289841, 23)"
      ]
     },
     "execution_count": 4,
     "metadata": {},
     "output_type": "execute_result"
    }
   ],
   "source": [
    "df_unbalanced.shape"
   ]
  },
  {
   "cell_type": "code",
   "execution_count": 5,
   "metadata": {},
   "outputs": [
    {
     "data": {
      "text/plain": [
       "C_YEAR     int64\n",
       "C_MNTH    object\n",
       "C_WDAY    object\n",
       "C_HOUR    object\n",
       "C_SEV      int64\n",
       "C_VEHS    object\n",
       "C_CONF    object\n",
       "C_RCFG    object\n",
       "C_WTHR    object\n",
       "C_RSUR    object\n",
       "C_RALN    object\n",
       "C_TRAF    object\n",
       "V_ID      object\n",
       "V_TYPE    object\n",
       "V_YEAR    object\n",
       "P_ID      object\n",
       "P_SEX     object\n",
       "P_AGE     object\n",
       "P_PSN     object\n",
       "P_ISEV    object\n",
       "P_SAFE    object\n",
       "P_USER    object\n",
       "C_CASE     int64\n",
       "dtype: object"
      ]
     },
     "execution_count": 5,
     "metadata": {},
     "output_type": "execute_result"
    }
   ],
   "source": [
    "df_unbalanced.dtypes"
   ]
  },
  {
   "cell_type": "code",
   "execution_count": 6,
   "metadata": {},
   "outputs": [
    {
     "data": {
      "text/plain": [
       "2    285373\n",
       "1      4468\n",
       "Name: C_SEV, dtype: int64"
      ]
     },
     "execution_count": 6,
     "metadata": {},
     "output_type": "execute_result"
    }
   ],
   "source": [
    "df_unbalanced['C_SEV'].value_counts()"
   ]
  },
  {
   "cell_type": "code",
   "execution_count": 7,
   "metadata": {},
   "outputs": [],
   "source": [
    "df_fatal = df_unbalanced[df_unbalanced['C_SEV'] ==1]"
   ]
  },
  {
   "cell_type": "code",
   "execution_count": 8,
   "metadata": {},
   "outputs": [
    {
     "data": {
      "text/plain": [
       "(4468, 23)"
      ]
     },
     "execution_count": 8,
     "metadata": {},
     "output_type": "execute_result"
    }
   ],
   "source": [
    "df_fatal.shape"
   ]
  },
  {
   "cell_type": "code",
   "execution_count": 9,
   "metadata": {},
   "outputs": [],
   "source": [
    "df_injury = df_unbalanced[df_unbalanced['C_SEV'] ==2]"
   ]
  },
  {
   "cell_type": "code",
   "execution_count": 10,
   "metadata": {},
   "outputs": [
    {
     "data": {
      "text/plain": [
       "(285373, 23)"
      ]
     },
     "execution_count": 10,
     "metadata": {},
     "output_type": "execute_result"
    }
   ],
   "source": [
    "df_injury.shape"
   ]
  },
  {
   "cell_type": "code",
   "execution_count": 11,
   "metadata": {},
   "outputs": [],
   "source": [
    "df_injury=df_injury.sample(n=5000)"
   ]
  },
  {
   "cell_type": "code",
   "execution_count": 12,
   "metadata": {},
   "outputs": [
    {
     "data": {
      "text/plain": [
       "(5000, 23)"
      ]
     },
     "execution_count": 12,
     "metadata": {},
     "output_type": "execute_result"
    }
   ],
   "source": [
    "df_injury.shape"
   ]
  },
  {
   "cell_type": "code",
   "execution_count": 13,
   "metadata": {},
   "outputs": [
    {
     "data": {
      "text/html": [
       "<div>\n",
       "<style scoped>\n",
       "    .dataframe tbody tr th:only-of-type {\n",
       "        vertical-align: middle;\n",
       "    }\n",
       "\n",
       "    .dataframe tbody tr th {\n",
       "        vertical-align: top;\n",
       "    }\n",
       "\n",
       "    .dataframe thead th {\n",
       "        text-align: right;\n",
       "    }\n",
       "</style>\n",
       "<table border=\"1\" class=\"dataframe\">\n",
       "  <thead>\n",
       "    <tr style=\"text-align: right;\">\n",
       "      <th></th>\n",
       "      <th>C_YEAR</th>\n",
       "      <th>C_MNTH</th>\n",
       "      <th>C_WDAY</th>\n",
       "      <th>C_HOUR</th>\n",
       "      <th>C_SEV</th>\n",
       "      <th>C_VEHS</th>\n",
       "      <th>C_CONF</th>\n",
       "      <th>C_RCFG</th>\n",
       "      <th>C_WTHR</th>\n",
       "      <th>C_RSUR</th>\n",
       "      <th>...</th>\n",
       "      <th>V_TYPE</th>\n",
       "      <th>V_YEAR</th>\n",
       "      <th>P_ID</th>\n",
       "      <th>P_SEX</th>\n",
       "      <th>P_AGE</th>\n",
       "      <th>P_PSN</th>\n",
       "      <th>P_ISEV</th>\n",
       "      <th>P_SAFE</th>\n",
       "      <th>P_USER</th>\n",
       "      <th>C_CASE</th>\n",
       "    </tr>\n",
       "  </thead>\n",
       "  <tbody>\n",
       "    <tr>\n",
       "      <th>67742</th>\n",
       "      <td>2017</td>\n",
       "      <td>4</td>\n",
       "      <td>2</td>\n",
       "      <td>18</td>\n",
       "      <td>2</td>\n",
       "      <td>2</td>\n",
       "      <td>33</td>\n",
       "      <td>01</td>\n",
       "      <td>1</td>\n",
       "      <td>1</td>\n",
       "      <td>...</td>\n",
       "      <td>01</td>\n",
       "      <td>2011</td>\n",
       "      <td>02</td>\n",
       "      <td>M</td>\n",
       "      <td>51</td>\n",
       "      <td>13</td>\n",
       "      <td>2</td>\n",
       "      <td>02</td>\n",
       "      <td>2</td>\n",
       "      <td>2544902</td>\n",
       "    </tr>\n",
       "    <tr>\n",
       "      <th>89351</th>\n",
       "      <td>2017</td>\n",
       "      <td>5</td>\n",
       "      <td>2</td>\n",
       "      <td>22</td>\n",
       "      <td>2</td>\n",
       "      <td>1</td>\n",
       "      <td>03</td>\n",
       "      <td>QQ</td>\n",
       "      <td>1</td>\n",
       "      <td>1</td>\n",
       "      <td>...</td>\n",
       "      <td>06</td>\n",
       "      <td>2006</td>\n",
       "      <td>01</td>\n",
       "      <td>M</td>\n",
       "      <td>51</td>\n",
       "      <td>11</td>\n",
       "      <td>2</td>\n",
       "      <td>UU</td>\n",
       "      <td>1</td>\n",
       "      <td>2557009</td>\n",
       "    </tr>\n",
       "    <tr>\n",
       "      <th>275259</th>\n",
       "      <td>2017</td>\n",
       "      <td>12</td>\n",
       "      <td>4</td>\n",
       "      <td>05</td>\n",
       "      <td>2</td>\n",
       "      <td>01</td>\n",
       "      <td>06</td>\n",
       "      <td>01</td>\n",
       "      <td>1</td>\n",
       "      <td>1</td>\n",
       "      <td>...</td>\n",
       "      <td>01</td>\n",
       "      <td>2006</td>\n",
       "      <td>02</td>\n",
       "      <td>F</td>\n",
       "      <td>53</td>\n",
       "      <td>13</td>\n",
       "      <td>2</td>\n",
       "      <td>02</td>\n",
       "      <td>2</td>\n",
       "      <td>2524508</td>\n",
       "    </tr>\n",
       "    <tr>\n",
       "      <th>75086</th>\n",
       "      <td>2017</td>\n",
       "      <td>4</td>\n",
       "      <td>5</td>\n",
       "      <td>03</td>\n",
       "      <td>2</td>\n",
       "      <td>1</td>\n",
       "      <td>06</td>\n",
       "      <td>01</td>\n",
       "      <td>3</td>\n",
       "      <td>2</td>\n",
       "      <td>...</td>\n",
       "      <td>01</td>\n",
       "      <td>2016</td>\n",
       "      <td>01</td>\n",
       "      <td>M</td>\n",
       "      <td>24</td>\n",
       "      <td>11</td>\n",
       "      <td>2</td>\n",
       "      <td>QQ</td>\n",
       "      <td>1</td>\n",
       "      <td>2498893</td>\n",
       "    </tr>\n",
       "    <tr>\n",
       "      <th>180822</th>\n",
       "      <td>2017</td>\n",
       "      <td>8</td>\n",
       "      <td>6</td>\n",
       "      <td>23</td>\n",
       "      <td>2</td>\n",
       "      <td>02</td>\n",
       "      <td>36</td>\n",
       "      <td>02</td>\n",
       "      <td>1</td>\n",
       "      <td>1</td>\n",
       "      <td>...</td>\n",
       "      <td>01</td>\n",
       "      <td>2008</td>\n",
       "      <td>04</td>\n",
       "      <td>M</td>\n",
       "      <td>UU</td>\n",
       "      <td>23</td>\n",
       "      <td>1</td>\n",
       "      <td>02</td>\n",
       "      <td>2</td>\n",
       "      <td>2512695</td>\n",
       "    </tr>\n",
       "  </tbody>\n",
       "</table>\n",
       "<p>5 rows × 23 columns</p>\n",
       "</div>"
      ],
      "text/plain": [
       "        C_YEAR C_MNTH C_WDAY C_HOUR  C_SEV C_VEHS C_CONF C_RCFG C_WTHR C_RSUR  \\\n",
       "67742     2017      4      2     18      2      2     33     01      1      1   \n",
       "89351     2017      5      2     22      2      1     03     QQ      1      1   \n",
       "275259    2017     12      4     05      2     01     06     01      1      1   \n",
       "75086     2017      4      5     03      2      1     06     01      3      2   \n",
       "180822    2017      8      6     23      2     02     36     02      1      1   \n",
       "\n",
       "        ... V_TYPE V_YEAR P_ID P_SEX P_AGE P_PSN P_ISEV P_SAFE P_USER   C_CASE  \n",
       "67742   ...     01   2011   02     M    51    13      2     02      2  2544902  \n",
       "89351   ...     06   2006   01     M    51    11      2     UU      1  2557009  \n",
       "275259  ...     01   2006   02     F    53    13      2     02      2  2524508  \n",
       "75086   ...     01   2016   01     M    24    11      2     QQ      1  2498893  \n",
       "180822  ...     01   2008   04     M    UU    23      1     02      2  2512695  \n",
       "\n",
       "[5 rows x 23 columns]"
      ]
     },
     "execution_count": 13,
     "metadata": {},
     "output_type": "execute_result"
    }
   ],
   "source": [
    "df_injury.head()"
   ]
  },
  {
   "cell_type": "code",
   "execution_count": 14,
   "metadata": {},
   "outputs": [
    {
     "data": {
      "text/plain": [
       "C_YEAR     int64\n",
       "C_MNTH    object\n",
       "C_WDAY    object\n",
       "C_HOUR    object\n",
       "C_SEV      int64\n",
       "C_VEHS    object\n",
       "C_CONF    object\n",
       "C_RCFG    object\n",
       "C_WTHR    object\n",
       "C_RSUR    object\n",
       "C_RALN    object\n",
       "C_TRAF    object\n",
       "V_ID      object\n",
       "V_TYPE    object\n",
       "V_YEAR    object\n",
       "P_ID      object\n",
       "P_SEX     object\n",
       "P_AGE     object\n",
       "P_PSN     object\n",
       "P_ISEV    object\n",
       "P_SAFE    object\n",
       "P_USER    object\n",
       "C_CASE     int64\n",
       "dtype: object"
      ]
     },
     "execution_count": 14,
     "metadata": {},
     "output_type": "execute_result"
    }
   ],
   "source": [
    "df_unbalanced.dtypes"
   ]
  },
  {
   "cell_type": "code",
   "execution_count": 15,
   "metadata": {},
   "outputs": [],
   "source": [
    "df_bal = [df_fatal, df_injury]\n",
    "df = pd.concat(df_bal)"
   ]
  },
  {
   "cell_type": "code",
   "execution_count": 16,
   "metadata": {},
   "outputs": [
    {
     "data": {
      "text/plain": [
       "(9468, 23)"
      ]
     },
     "execution_count": 16,
     "metadata": {},
     "output_type": "execute_result"
    }
   ],
   "source": [
    "df.shape"
   ]
  },
  {
   "cell_type": "code",
   "execution_count": 17,
   "metadata": {
    "scrolled": true
   },
   "outputs": [
    {
     "data": {
      "text/plain": [
       "C_YEAR     int64\n",
       "C_MNTH    object\n",
       "C_WDAY    object\n",
       "C_HOUR    object\n",
       "C_SEV      int64\n",
       "C_VEHS    object\n",
       "C_CONF    object\n",
       "C_RCFG    object\n",
       "C_WTHR    object\n",
       "C_RSUR    object\n",
       "C_RALN    object\n",
       "C_TRAF    object\n",
       "V_ID      object\n",
       "V_TYPE    object\n",
       "V_YEAR    object\n",
       "P_ID      object\n",
       "P_SEX     object\n",
       "P_AGE     object\n",
       "P_PSN     object\n",
       "P_ISEV    object\n",
       "P_SAFE    object\n",
       "P_USER    object\n",
       "C_CASE     int64\n",
       "dtype: object"
      ]
     },
     "execution_count": 17,
     "metadata": {},
     "output_type": "execute_result"
    }
   ],
   "source": [
    "df.dtypes"
   ]
  },
  {
   "cell_type": "markdown",
   "metadata": {},
   "source": [
    "The balanced df contains roughly equal number of C_SEV=2 and C_SEV=1."
   ]
  },
  {
   "cell_type": "code",
   "execution_count": 18,
   "metadata": {},
   "outputs": [
    {
     "data": {
      "text/plain": [
       "2    5000\n",
       "1    4468\n",
       "Name: C_SEV, dtype: int64"
      ]
     },
     "execution_count": 18,
     "metadata": {},
     "output_type": "execute_result"
    }
   ],
   "source": [
    "df['C_SEV'].value_counts()"
   ]
  },
  {
   "cell_type": "markdown",
   "metadata": {
    "button": false,
    "new_sheet": false,
    "run_control": {
     "read_only": false
    }
   },
   "source": [
    "## 2.2\tData Cleansing and Pre-processing"
   ]
  },
  {
   "cell_type": "markdown",
   "metadata": {
    "button": false,
    "new_sheet": false,
    "run_control": {
     "read_only": false
    }
   },
   "source": [
    "#### Clean the df by removing invalid data values."
   ]
  },
  {
   "cell_type": "code",
   "execution_count": 60,
   "metadata": {},
   "outputs": [],
   "source": [
    "'''' It doesn' work when coded this way.\n",
    "df = df[df.C_MNTH != (\"UU\" or \"XX\")]\n",
    "df = df[df.C_WDAY != \"U\"] \n",
    "df = df[df.C_HOUR != (\"UU\" or \"XX\")]  \n",
    "df = df[df.C_VEHS != (\"UU\" or \"XX\")]  \n",
    "df = df[df.C_CONF != (\"UU\" or \"XX\" or \"QQ\")]  \n",
    "df = df[df.C_RCFG != (\"UU\" or \"XX\" or \"QQ\")]  \n",
    "df = df[df.C_WTHR != (\"U\" or \"X\" or \"Q\")]  \n",
    "df = df[df.C_RSUR != (\"U\" or \"X\" or \"Q\")]  \n",
    "df = df[df.C_RALN != (\"U\" or \"X\" or \"Q\")]  \n",
    "df = df[df.C_TRAF != (\"UU\" or \"XX\" or \"QQ\")]  \n",
    "df = df[df.V_TYPE != (\"UU\" or \"XX\" or \"QQ\")]  \n",
    "df = df[df.V_YEAR != (\"UUUU\" or \"XXXX\" or \"NNNN\")]  \n",
    "df = df[df.P_SEX != (\"U\" or \"X\" or \"N\")] \n",
    "df = df[df.P_AGE != (\"UU\" or \"NN\" or \"XX\")]  \n",
    "df = df[df.P_PSN != (\"UU\" or \"XX\" or \"QQ\" or \"NN\")]  \n",
    "df = df[df.P_ISEV != (\"U\" or \"X\" or \"N\")] \n",
    "df = df[df.P_SAFE != (\"UU\" or \"XX\" or \"QQ\" or \"NN\")]  \n",
    "df = df[df.P_USER != \"U\"]  "
   ]
  },
  {
   "cell_type": "code",
   "execution_count": 19,
   "metadata": {},
   "outputs": [],
   "source": [
    "df = df[df.C_MNTH != \"UU\"]  #Month not NA\n",
    "df = df[df.C_MNTH != \"XX\"]\n",
    "\n",
    "df = df[df.C_WDAY != \"U\"]  #Day of week is not NA\n",
    "\n",
    "df = df[df.C_HOUR != \"UU\"]  #Hour not NA\n",
    "df = df[df.C_HOUR != \"XX\"]\n",
    "\n",
    "df = df[df.C_VEHS != \"UU\"]  #Number of vehicles involved in collision not NA\n",
    "df = df[df.C_VEHS != \"XX\"]\n",
    "\n",
    "df = df[df.C_CONF != \"UU\"]  #Collision configuration not NA\n",
    "df = df[df.C_CONF != \"QQ\"]\n",
    "df = df[df.C_CONF != \"XX\"]\n",
    "\n",
    "df = df[df.C_RCFG != \"UU\"]  #Roadway configuration not NA\n",
    "df = df[df.C_RCFG != \"QQ\"]\n",
    "df = df[df.C_RCFG != \"XX\"]\n",
    "\n",
    "df = df[df.C_WTHR != \"U\"]  #Weather condition not NA\n",
    "df = df[df.C_WTHR != \"Q\"]\n",
    "df = df[df.C_WTHR != \"X\"]\n",
    "\n",
    "df = df[df.C_RSUR != \"U\"]  #Road surface not NA\n",
    "df = df[df.C_RSUR != \"Q\"]\n",
    "df = df[df.C_RSUR != \"X\"]\n",
    "\n",
    "df = df[df.C_RALN != \"U\"]  #Road alignment not NA\n",
    "df = df[df.C_RALN != \"Q\"]\n",
    "df = df[df.C_RALN != \"X\"]\n",
    "\n",
    "df = df[df.C_TRAF != \"UU\"]  #Traffic control not NA\n",
    "df = df[df.C_TRAF != \"QQ\"]\n",
    "df = df[df.C_TRAF != \"XX\"]\n",
    "\n",
    "df = df[df.V_TYPE != \"UU\"]  #Vehicle type not NA\n",
    "df = df[df.V_TYPE != \"QQ\"]\n",
    "df = df[df.V_TYPE != \"XX\"]\n",
    "\n",
    "df = df[df.V_YEAR != \"UUUU\"]  #Vehicle model year not NA\n",
    "df = df[df.V_YEAR != \"NNNN\"]\n",
    "df = df[df.V_YEAR != \"XXXX\"]\n",
    "\n",
    "df = df[df.P_SEX != \"U\"]  #Person sex is not NA\n",
    "df = df[df.P_SEX != \"N\"]\n",
    "df = df[df.P_SEX != \"X\"]\n",
    "\n",
    "df = df[df.P_AGE != \"UU\"]  #Person age is not NA\n",
    "df = df[df.P_AGE != \"NN\"]\n",
    "df = df[df.P_AGE != \"XX\"]\n",
    "\n",
    "df = df[df.P_PSN != \"UU\"]  #Person position is not NA\n",
    "df = df[df.P_PSN != \"QQ\"]\n",
    "df = df[df.P_PSN != \"XX\"]\n",
    "df = df[df.P_PSN != \"NN\"]\n",
    "\n",
    "df = df[df.P_ISEV != \"U\"]  #Medical treatment required is not NA\n",
    "df = df[df.P_ISEV != \"N\"]\n",
    "df = df[df.P_ISEV != \"X\"]\n",
    "\n",
    "df = df[df.P_SAFE != \"UU\"]  #Safety device used is not NA\n",
    "df = df[df.P_SAFE != \"NN\"]\n",
    "df = df[df.P_SAFE != \"XX\"]\n",
    "df = df[df.P_SAFE != \"QQ\"]\n",
    "\n",
    "df = df[df.P_USER != \"U\"]  #Road user class is not NA"
   ]
  },
  {
   "cell_type": "code",
   "execution_count": 20,
   "metadata": {},
   "outputs": [],
   "source": [
    "#Change data types from object to int\n",
    "df['C_MNTH']=df['C_MNTH'].astype(\"int\")\n",
    "df['C_WDAY']=df['C_WDAY'].astype(\"int\")\n",
    "df['C_HOUR']=df['C_HOUR'].astype(\"int\")\n",
    "df['C_VEHS']=df['C_VEHS'].astype(\"int\")\n",
    "df['C_CONF']=df['C_CONF'].astype(\"int\")\n",
    "df['C_RCFG']=df['C_RCFG'].astype(\"int\")\n",
    "df['C_WTHR']=df['C_WTHR'].astype(\"int\")\n",
    "df['C_RSUR']=df['C_RSUR'].astype(\"int\")\n",
    "df['C_RALN']=df['C_RALN'].astype(\"int\")\n",
    "df['C_TRAF']=df['C_TRAF'].astype(\"int\")\n",
    "\n",
    "df['V_TYPE']=df['V_TYPE'].astype(\"int\")\n",
    "df['V_YEAR']=df['V_YEAR'].astype(\"int\")\n",
    "\n",
    "df['P_AGE']=df['P_AGE'].astype(\"int\")\n",
    "df['P_PSN']=df['P_PSN'].astype(\"int\")\n",
    "df['P_ISEV']=df['P_ISEV'].astype(\"int\")\n",
    "df['P_SAFE']=df['P_SAFE'].astype(\"int\")\n",
    "df['P_USER']=df['P_USER'].astype(\"int\")"
   ]
  },
  {
   "cell_type": "code",
   "execution_count": 21,
   "metadata": {},
   "outputs": [
    {
     "data": {
      "text/plain": [
       "(5110, 23)"
      ]
     },
     "execution_count": 21,
     "metadata": {},
     "output_type": "execute_result"
    }
   ],
   "source": [
    "df.shape"
   ]
  },
  {
   "cell_type": "code",
   "execution_count": 22,
   "metadata": {},
   "outputs": [
    {
     "data": {
      "text/plain": [
       "C_YEAR     int64\n",
       "C_MNTH     int64\n",
       "C_WDAY     int64\n",
       "C_HOUR     int64\n",
       "C_SEV      int64\n",
       "C_VEHS     int64\n",
       "C_CONF     int64\n",
       "C_RCFG     int64\n",
       "C_WTHR     int64\n",
       "C_RSUR     int64\n",
       "C_RALN     int64\n",
       "C_TRAF     int64\n",
       "V_ID      object\n",
       "V_TYPE     int64\n",
       "V_YEAR     int64\n",
       "P_ID      object\n",
       "P_SEX     object\n",
       "P_AGE      int64\n",
       "P_PSN      int64\n",
       "P_ISEV     int64\n",
       "P_SAFE     int64\n",
       "P_USER     int64\n",
       "C_CASE     int64\n",
       "dtype: object"
      ]
     },
     "execution_count": 22,
     "metadata": {},
     "output_type": "execute_result"
    }
   ],
   "source": [
    "df.dtypes"
   ]
  },
  {
   "cell_type": "code",
   "execution_count": 23,
   "metadata": {
    "scrolled": true
   },
   "outputs": [
    {
     "data": {
      "text/html": [
       "<div>\n",
       "<style scoped>\n",
       "    .dataframe tbody tr th:only-of-type {\n",
       "        vertical-align: middle;\n",
       "    }\n",
       "\n",
       "    .dataframe tbody tr th {\n",
       "        vertical-align: top;\n",
       "    }\n",
       "\n",
       "    .dataframe thead th {\n",
       "        text-align: right;\n",
       "    }\n",
       "</style>\n",
       "<table border=\"1\" class=\"dataframe\">\n",
       "  <thead>\n",
       "    <tr style=\"text-align: right;\">\n",
       "      <th></th>\n",
       "      <th>C_YEAR</th>\n",
       "      <th>C_MNTH</th>\n",
       "      <th>C_WDAY</th>\n",
       "      <th>C_HOUR</th>\n",
       "      <th>C_SEV</th>\n",
       "      <th>C_VEHS</th>\n",
       "      <th>C_CONF</th>\n",
       "      <th>C_RCFG</th>\n",
       "      <th>C_WTHR</th>\n",
       "      <th>C_RSUR</th>\n",
       "      <th>...</th>\n",
       "      <th>V_TYPE</th>\n",
       "      <th>V_YEAR</th>\n",
       "      <th>P_ID</th>\n",
       "      <th>P_SEX</th>\n",
       "      <th>P_AGE</th>\n",
       "      <th>P_PSN</th>\n",
       "      <th>P_ISEV</th>\n",
       "      <th>P_SAFE</th>\n",
       "      <th>P_USER</th>\n",
       "      <th>C_CASE</th>\n",
       "    </tr>\n",
       "  </thead>\n",
       "  <tbody>\n",
       "    <tr>\n",
       "      <th>578</th>\n",
       "      <td>2017</td>\n",
       "      <td>1</td>\n",
       "      <td>1</td>\n",
       "      <td>8</td>\n",
       "      <td>1</td>\n",
       "      <td>2</td>\n",
       "      <td>31</td>\n",
       "      <td>1</td>\n",
       "      <td>1</td>\n",
       "      <td>1</td>\n",
       "      <td>...</td>\n",
       "      <td>1</td>\n",
       "      <td>2009</td>\n",
       "      <td>01</td>\n",
       "      <td>M</td>\n",
       "      <td>63</td>\n",
       "      <td>11</td>\n",
       "      <td>3</td>\n",
       "      <td>2</td>\n",
       "      <td>1</td>\n",
       "      <td>2478585</td>\n",
       "    </tr>\n",
       "    <tr>\n",
       "      <th>579</th>\n",
       "      <td>2017</td>\n",
       "      <td>1</td>\n",
       "      <td>1</td>\n",
       "      <td>8</td>\n",
       "      <td>1</td>\n",
       "      <td>2</td>\n",
       "      <td>31</td>\n",
       "      <td>1</td>\n",
       "      <td>1</td>\n",
       "      <td>1</td>\n",
       "      <td>...</td>\n",
       "      <td>8</td>\n",
       "      <td>2017</td>\n",
       "      <td>01</td>\n",
       "      <td>M</td>\n",
       "      <td>29</td>\n",
       "      <td>11</td>\n",
       "      <td>1</td>\n",
       "      <td>2</td>\n",
       "      <td>1</td>\n",
       "      <td>2478585</td>\n",
       "    </tr>\n",
       "    <tr>\n",
       "      <th>638</th>\n",
       "      <td>2017</td>\n",
       "      <td>1</td>\n",
       "      <td>1</td>\n",
       "      <td>9</td>\n",
       "      <td>1</td>\n",
       "      <td>1</td>\n",
       "      <td>2</td>\n",
       "      <td>1</td>\n",
       "      <td>2</td>\n",
       "      <td>1</td>\n",
       "      <td>...</td>\n",
       "      <td>1</td>\n",
       "      <td>2003</td>\n",
       "      <td>01</td>\n",
       "      <td>M</td>\n",
       "      <td>24</td>\n",
       "      <td>11</td>\n",
       "      <td>3</td>\n",
       "      <td>1</td>\n",
       "      <td>1</td>\n",
       "      <td>2481696</td>\n",
       "    </tr>\n",
       "    <tr>\n",
       "      <th>639</th>\n",
       "      <td>2017</td>\n",
       "      <td>1</td>\n",
       "      <td>1</td>\n",
       "      <td>9</td>\n",
       "      <td>1</td>\n",
       "      <td>1</td>\n",
       "      <td>2</td>\n",
       "      <td>1</td>\n",
       "      <td>2</td>\n",
       "      <td>1</td>\n",
       "      <td>...</td>\n",
       "      <td>1</td>\n",
       "      <td>2003</td>\n",
       "      <td>02</td>\n",
       "      <td>M</td>\n",
       "      <td>42</td>\n",
       "      <td>13</td>\n",
       "      <td>2</td>\n",
       "      <td>1</td>\n",
       "      <td>2</td>\n",
       "      <td>2481696</td>\n",
       "    </tr>\n",
       "    <tr>\n",
       "      <th>1006</th>\n",
       "      <td>2017</td>\n",
       "      <td>1</td>\n",
       "      <td>1</td>\n",
       "      <td>12</td>\n",
       "      <td>1</td>\n",
       "      <td>2</td>\n",
       "      <td>36</td>\n",
       "      <td>2</td>\n",
       "      <td>6</td>\n",
       "      <td>3</td>\n",
       "      <td>...</td>\n",
       "      <td>1</td>\n",
       "      <td>2009</td>\n",
       "      <td>01</td>\n",
       "      <td>M</td>\n",
       "      <td>67</td>\n",
       "      <td>11</td>\n",
       "      <td>3</td>\n",
       "      <td>2</td>\n",
       "      <td>1</td>\n",
       "      <td>2490524</td>\n",
       "    </tr>\n",
       "    <tr>\n",
       "      <th>1007</th>\n",
       "      <td>2017</td>\n",
       "      <td>1</td>\n",
       "      <td>1</td>\n",
       "      <td>12</td>\n",
       "      <td>1</td>\n",
       "      <td>2</td>\n",
       "      <td>36</td>\n",
       "      <td>2</td>\n",
       "      <td>6</td>\n",
       "      <td>3</td>\n",
       "      <td>...</td>\n",
       "      <td>8</td>\n",
       "      <td>2014</td>\n",
       "      <td>01</td>\n",
       "      <td>M</td>\n",
       "      <td>60</td>\n",
       "      <td>11</td>\n",
       "      <td>1</td>\n",
       "      <td>2</td>\n",
       "      <td>1</td>\n",
       "      <td>2490524</td>\n",
       "    </tr>\n",
       "    <tr>\n",
       "      <th>1706</th>\n",
       "      <td>2017</td>\n",
       "      <td>1</td>\n",
       "      <td>1</td>\n",
       "      <td>18</td>\n",
       "      <td>1</td>\n",
       "      <td>1</td>\n",
       "      <td>6</td>\n",
       "      <td>1</td>\n",
       "      <td>1</td>\n",
       "      <td>1</td>\n",
       "      <td>...</td>\n",
       "      <td>1</td>\n",
       "      <td>2012</td>\n",
       "      <td>01</td>\n",
       "      <td>M</td>\n",
       "      <td>60</td>\n",
       "      <td>11</td>\n",
       "      <td>3</td>\n",
       "      <td>2</td>\n",
       "      <td>1</td>\n",
       "      <td>2492864</td>\n",
       "    </tr>\n",
       "    <tr>\n",
       "      <th>1730</th>\n",
       "      <td>2017</td>\n",
       "      <td>1</td>\n",
       "      <td>1</td>\n",
       "      <td>12</td>\n",
       "      <td>1</td>\n",
       "      <td>1</td>\n",
       "      <td>6</td>\n",
       "      <td>1</td>\n",
       "      <td>1</td>\n",
       "      <td>1</td>\n",
       "      <td>...</td>\n",
       "      <td>1</td>\n",
       "      <td>2013</td>\n",
       "      <td>01</td>\n",
       "      <td>M</td>\n",
       "      <td>82</td>\n",
       "      <td>11</td>\n",
       "      <td>3</td>\n",
       "      <td>2</td>\n",
       "      <td>1</td>\n",
       "      <td>2493136</td>\n",
       "    </tr>\n",
       "    <tr>\n",
       "      <th>1802</th>\n",
       "      <td>2017</td>\n",
       "      <td>1</td>\n",
       "      <td>1</td>\n",
       "      <td>8</td>\n",
       "      <td>1</td>\n",
       "      <td>1</td>\n",
       "      <td>6</td>\n",
       "      <td>3</td>\n",
       "      <td>1</td>\n",
       "      <td>2</td>\n",
       "      <td>...</td>\n",
       "      <td>1</td>\n",
       "      <td>2015</td>\n",
       "      <td>01</td>\n",
       "      <td>M</td>\n",
       "      <td>72</td>\n",
       "      <td>11</td>\n",
       "      <td>3</td>\n",
       "      <td>2</td>\n",
       "      <td>1</td>\n",
       "      <td>2494290</td>\n",
       "    </tr>\n",
       "    <tr>\n",
       "      <th>1907</th>\n",
       "      <td>2017</td>\n",
       "      <td>1</td>\n",
       "      <td>1</td>\n",
       "      <td>19</td>\n",
       "      <td>1</td>\n",
       "      <td>2</td>\n",
       "      <td>31</td>\n",
       "      <td>1</td>\n",
       "      <td>1</td>\n",
       "      <td>2</td>\n",
       "      <td>...</td>\n",
       "      <td>1</td>\n",
       "      <td>1995</td>\n",
       "      <td>01</td>\n",
       "      <td>M</td>\n",
       "      <td>56</td>\n",
       "      <td>11</td>\n",
       "      <td>3</td>\n",
       "      <td>2</td>\n",
       "      <td>1</td>\n",
       "      <td>2499387</td>\n",
       "    </tr>\n",
       "  </tbody>\n",
       "</table>\n",
       "<p>10 rows × 23 columns</p>\n",
       "</div>"
      ],
      "text/plain": [
       "      C_YEAR  C_MNTH  C_WDAY  C_HOUR  C_SEV  C_VEHS  C_CONF  C_RCFG  C_WTHR  \\\n",
       "578     2017       1       1       8      1       2      31       1       1   \n",
       "579     2017       1       1       8      1       2      31       1       1   \n",
       "638     2017       1       1       9      1       1       2       1       2   \n",
       "639     2017       1       1       9      1       1       2       1       2   \n",
       "1006    2017       1       1      12      1       2      36       2       6   \n",
       "1007    2017       1       1      12      1       2      36       2       6   \n",
       "1706    2017       1       1      18      1       1       6       1       1   \n",
       "1730    2017       1       1      12      1       1       6       1       1   \n",
       "1802    2017       1       1       8      1       1       6       3       1   \n",
       "1907    2017       1       1      19      1       2      31       1       1   \n",
       "\n",
       "      C_RSUR  ...  V_TYPE  V_YEAR P_ID  P_SEX  P_AGE P_PSN P_ISEV  P_SAFE  \\\n",
       "578        1  ...       1    2009   01      M     63    11      3       2   \n",
       "579        1  ...       8    2017   01      M     29    11      1       2   \n",
       "638        1  ...       1    2003   01      M     24    11      3       1   \n",
       "639        1  ...       1    2003   02      M     42    13      2       1   \n",
       "1006       3  ...       1    2009   01      M     67    11      3       2   \n",
       "1007       3  ...       8    2014   01      M     60    11      1       2   \n",
       "1706       1  ...       1    2012   01      M     60    11      3       2   \n",
       "1730       1  ...       1    2013   01      M     82    11      3       2   \n",
       "1802       2  ...       1    2015   01      M     72    11      3       2   \n",
       "1907       2  ...       1    1995   01      M     56    11      3       2   \n",
       "\n",
       "      P_USER   C_CASE  \n",
       "578        1  2478585  \n",
       "579        1  2478585  \n",
       "638        1  2481696  \n",
       "639        2  2481696  \n",
       "1006       1  2490524  \n",
       "1007       1  2490524  \n",
       "1706       1  2492864  \n",
       "1730       1  2493136  \n",
       "1802       1  2494290  \n",
       "1907       1  2499387  \n",
       "\n",
       "[10 rows x 23 columns]"
      ]
     },
     "execution_count": 23,
     "metadata": {},
     "output_type": "execute_result"
    }
   ],
   "source": [
    "df.head(10)"
   ]
  },
  {
   "cell_type": "code",
   "execution_count": 24,
   "metadata": {},
   "outputs": [
    {
     "data": {
      "text/plain": [
       "2    2806\n",
       "1    2304\n",
       "Name: C_SEV, dtype: int64"
      ]
     },
     "execution_count": 24,
     "metadata": {},
     "output_type": "execute_result"
    }
   ],
   "source": [
    "df['C_SEV'].value_counts()"
   ]
  },
  {
   "cell_type": "markdown",
   "metadata": {},
   "source": [
    "After cleaning the data, we are left with 5110 rows of collision data. With 2806 being Collision producing non-fatal injury and 2304 being Collision producing at least one fatality. These data will be used for visualization and classification.\n",
    "Note that the number of non-fatal rows could vary, due to the fact that they were randomly selected and may or may not contain invalid values."
   ]
  },
  {
   "cell_type": "markdown",
   "metadata": {},
   "source": [
    "## 2.3 Data Visualization\n",
    "I visualized the data to identify the most important features using seaborn. "
   ]
  },
  {
   "cell_type": "code",
   "execution_count": 25,
   "metadata": {},
   "outputs": [
    {
     "name": "stdout",
     "output_type": "stream",
     "text": [
      "Solving environment: done\n",
      "\n",
      "## Package Plan ##\n",
      "\n",
      "  environment location: /opt/conda/envs/Python36\n",
      "\n",
      "  added / updated specs: \n",
      "    - seaborn\n",
      "\n",
      "\n",
      "The following packages will be downloaded:\n",
      "\n",
      "    package                    |            build\n",
      "    ---------------------------|-----------------\n",
      "    seaborn-0.11.0             |             py_0         216 KB  anaconda\n",
      "    ca-certificates-2020.7.22  |                0         132 KB  anaconda\n",
      "    certifi-2020.6.20          |           py36_0         160 KB  anaconda\n",
      "    openssl-1.1.1h             |       h7b6447c_0         3.8 MB  anaconda\n",
      "    ------------------------------------------------------------\n",
      "                                           Total:         4.3 MB\n",
      "\n",
      "The following packages will be UPDATED:\n",
      "\n",
      "    ca-certificates: 2020.7.22-0        --> 2020.7.22-0       anaconda\n",
      "    certifi:         2020.6.20-py36_0   --> 2020.6.20-py36_0  anaconda\n",
      "    openssl:         1.1.1g-h7b6447c_0  --> 1.1.1h-h7b6447c_0 anaconda\n",
      "    seaborn:         0.9.0-pyh91ea838_1 --> 0.11.0-py_0       anaconda\n",
      "\n",
      "\n",
      "Downloading and Extracting Packages\n",
      "seaborn-0.11.0       | 216 KB    | ##################################### | 100% \n",
      "ca-certificates-2020 | 132 KB    | ##################################### | 100% \n",
      "certifi-2020.6.20    | 160 KB    | ##################################### | 100% \n",
      "openssl-1.1.1h       | 3.8 MB    | ##################################### | 100% \n",
      "Preparing transaction: done\n",
      "Verifying transaction: done\n",
      "Executing transaction: done\n"
     ]
    }
   ],
   "source": [
    "!conda install -c anaconda seaborn -y"
   ]
  },
  {
   "cell_type": "code",
   "execution_count": 26,
   "metadata": {
    "button": false,
    "new_sheet": false,
    "run_control": {
     "read_only": false
    },
    "scrolled": false
   },
   "outputs": [
    {
     "data": {
      "image/png": "[encoded data removed]",
      "text/plain": [
       "<Figure size 432x216 with 2 Axes>"
      ]
     },
     "metadata": {
      "needs_background": "light"
     },
     "output_type": "display_data"
    }
   ],
   "source": [
    "import seaborn as sns\n",
    "bins = np.linspace(df.C_WDAY.min(), df.C_WDAY.max(),8)\n",
    "g = sns.FacetGrid(df, col=\"P_SEX\", hue=\"C_SEV\", palette=\"Set1\", col_wrap=2)\n",
    "g.map(plt.hist, 'C_WDAY', bins=bins, ec=\"k\", alpha=0.5)\n",
    "g.axes[-1].legend()\n",
    "plt.show()"
   ]
  },
  {
   "cell_type": "code",
   "execution_count": 27,
   "metadata": {},
   "outputs": [
    {
     "data": {
      "image/png": "[encoded data removed]",
      "text/plain": [
       "<Figure size 432x216 with 2 Axes>"
      ]
     },
     "metadata": {
      "needs_background": "light"
     },
     "output_type": "display_data"
    }
   ],
   "source": [
    "import seaborn as sns\n",
    "bins = np.linspace(df.C_MNTH.min(), df.C_MNTH.max(),13)\n",
    "g = sns.FacetGrid(df, col=\"P_SEX\", hue=\"C_SEV\", palette=\"Set1\", col_wrap=2)\n",
    "g.map(plt.hist, 'C_MNTH', bins=bins, ec=\"k\", alpha=0.5)\n",
    "g.axes[-1].legend()\n",
    "plt.show()"
   ]
  },
  {
   "cell_type": "code",
   "execution_count": 28,
   "metadata": {},
   "outputs": [
    {
     "data": {
      "image/png": "[encoded data removed]",
      "text/plain": [
       "<Figure size 432x216 with 2 Axes>"
      ]
     },
     "metadata": {
      "needs_background": "light"
     },
     "output_type": "display_data"
    }
   ],
   "source": [
    "import seaborn as sns\n",
    "bins = np.linspace(df.C_HOUR.min(), df.C_HOUR.max(),24)\n",
    "g = sns.FacetGrid(df, col=\"P_SEX\", hue=\"C_SEV\", palette=\"Set1\", col_wrap=2)\n",
    "g.map(plt.hist, 'C_HOUR', bins=bins, ec=\"k\", alpha=0.5)\n",
    "g.axes[-1].legend()\n",
    "plt.show()"
   ]
  },
  {
   "cell_type": "code",
   "execution_count": 29,
   "metadata": {},
   "outputs": [
    {
     "data": {
      "image/png": "[encoded data removed]",
      "text/plain": [
       "<Figure size 432x216 with 2 Axes>"
      ]
     },
     "metadata": {
      "needs_background": "light"
     },
     "output_type": "display_data"
    }
   ],
   "source": [
    "import seaborn as sns\n",
    "bins = np.linspace(df.C_VEHS.min(), 10,11)\n",
    "g = sns.FacetGrid(df, col=\"P_SEX\", hue=\"C_SEV\", palette=\"Set1\", col_wrap=2)\n",
    "g.map(plt.hist, 'C_VEHS', bins=bins, ec=\"k\", alpha=0.5)\n",
    "g.axes[-1].legend()\n",
    "plt.show()"
   ]
  },
  {
   "cell_type": "code",
   "execution_count": 30,
   "metadata": {
    "scrolled": true
   },
   "outputs": [
    {
     "data": {
      "image/png": "[encoded data removed]",
      "text/plain": [
       "<Figure size 432x216 with 2 Axes>"
      ]
     },
     "metadata": {
      "needs_background": "light"
     },
     "output_type": "display_data"
    }
   ],
   "source": [
    "import seaborn as sns\n",
    "bins = np.linspace(df.C_WTHR.min(), df.C_WTHR.max(), 10)\n",
    "g = sns.FacetGrid(df, col=\"P_SEX\", hue=\"C_SEV\", palette=\"Set1\", col_wrap=2)\n",
    "g.map(plt.hist, 'C_WTHR', bins=bins, ec=\"k\", alpha=0.5)\n",
    "g.axes[-1].legend()\n",
    "plt.show()"
   ]
  },
  {
   "cell_type": "code",
   "execution_count": 31,
   "metadata": {},
   "outputs": [
    {
     "data": {
      "image/png": "[encoded data removed]",
      "text/plain": [
       "<Figure size 432x216 with 2 Axes>"
      ]
     },
     "metadata": {
      "needs_background": "light"
     },
     "output_type": "display_data"
    }
   ],
   "source": [
    "import seaborn as sns\n",
    "bins = np.linspace(df.C_RSUR.min(), df.C_RSUR.max(), 10)\n",
    "g = sns.FacetGrid(df, col=\"P_SEX\", hue=\"C_SEV\", palette=\"Set1\", col_wrap=2)\n",
    "g.map(plt.hist, 'C_RSUR', bins=bins, ec=\"k\", alpha=0.5)\n",
    "g.axes[-1].legend()\n",
    "plt.show()"
   ]
  },
  {
   "cell_type": "code",
   "execution_count": 32,
   "metadata": {
    "scrolled": true
   },
   "outputs": [
    {
     "data": {
      "image/png": "[encoded data removed]",
      "text/plain": [
       "<Figure size 432x216 with 2 Axes>"
      ]
     },
     "metadata": {
      "needs_background": "light"
     },
     "output_type": "display_data"
    }
   ],
   "source": [
    "import seaborn as sns\n",
    "bins = np.linspace(df.C_CONF.min(), df.C_CONF.max(), 42)\n",
    "g = sns.FacetGrid(df, col=\"P_SEX\", hue=\"C_SEV\", palette=\"Set1\", col_wrap=2)\n",
    "g.map(plt.hist, 'C_CONF', bins=bins, ec=\"k\", alpha=0.5)\n",
    "g.axes[-1].legend()\n",
    "plt.show()"
   ]
  },
  {
   "cell_type": "code",
   "execution_count": 33,
   "metadata": {
    "scrolled": false
   },
   "outputs": [
    {
     "data": {
      "image/png": "[encoded data removed]",
      "text/plain": [
       "<Figure size 432x216 with 2 Axes>"
      ]
     },
     "metadata": {
      "needs_background": "light"
     },
     "output_type": "display_data"
    }
   ],
   "source": [
    "import seaborn as sns\n",
    "bins = np.linspace(df.C_RCFG.min(), df.C_RCFG.max(), 13)\n",
    "g = sns.FacetGrid(df, col=\"P_SEX\", hue=\"C_SEV\", palette=\"Set1\", col_wrap=2)\n",
    "g.map(plt.hist, 'C_RCFG', bins=bins, ec=\"k\", alpha=0.5)\n",
    "g.axes[-1].legend()\n",
    "plt.show()"
   ]
  },
  {
   "cell_type": "code",
   "execution_count": null,
   "metadata": {},
   "outputs": [],
   "source": []
  },
  {
   "cell_type": "code",
   "execution_count": 34,
   "metadata": {
    "scrolled": true
   },
   "outputs": [
    {
     "data": {
      "image/png": "[encoded data removed]",
      "text/plain": [
       "<Figure size 432x216 with 2 Axes>"
      ]
     },
     "metadata": {
      "needs_background": "light"
     },
     "output_type": "display_data"
    }
   ],
   "source": [
    "import seaborn as sns\n",
    "bins = np.linspace(df.C_RALN.min(), df.C_RALN.max(), 7)\n",
    "g = sns.FacetGrid(df, col=\"P_SEX\", hue=\"C_SEV\", palette=\"Set1\", col_wrap=2)\n",
    "g.map(plt.hist, 'C_RALN', bins=bins, ec=\"k\", alpha=0.5)\n",
    "g.axes[-1].legend()\n",
    "plt.show()"
   ]
  },
  {
   "cell_type": "code",
   "execution_count": 35,
   "metadata": {
    "scrolled": false
   },
   "outputs": [
    {
     "data": {
      "image/png": "[encoded data removed]",
      "text/plain": [
       "<Figure size 432x216 with 2 Axes>"
      ]
     },
     "metadata": {
      "needs_background": "light"
     },
     "output_type": "display_data"
    }
   ],
   "source": [
    "import seaborn as sns\n",
    "bins = np.linspace(df.C_TRAF.min(), df.C_TRAF.max(), 19)\n",
    "g = sns.FacetGrid(df, col=\"P_SEX\", hue=\"C_SEV\", palette=\"Set1\", col_wrap=2)\n",
    "g.map(plt.hist, 'C_TRAF', bins=bins, ec=\"k\", alpha=0.5)\n",
    "g.axes[-1].legend()\n",
    "plt.show()"
   ]
  },
  {
   "cell_type": "code",
   "execution_count": 36,
   "metadata": {},
   "outputs": [
    {
     "data": {
      "image/png": "[encoded data removed]",
      "text/plain": [
       "<Figure size 432x216 with 2 Axes>"
      ]
     },
     "metadata": {
      "needs_background": "light"
     },
     "output_type": "display_data"
    }
   ],
   "source": [
    "import seaborn as sns\n",
    "bins = np.linspace(df.V_TYPE.min(), df.V_TYPE.max(), 24)\n",
    "g = sns.FacetGrid(df, col=\"P_SEX\", hue=\"C_SEV\", palette=\"Set1\", col_wrap=2)\n",
    "g.map(plt.hist, 'V_TYPE', bins=bins, ec=\"k\", alpha=0.5)\n",
    "g.axes[-1].legend()\n",
    "plt.show()"
   ]
  },
  {
   "cell_type": "code",
   "execution_count": 37,
   "metadata": {
    "scrolled": true
   },
   "outputs": [
    {
     "data": {
      "image/png": "[encoded data removed]",
      "text/plain": [
       "<Figure size 432x216 with 2 Axes>"
      ]
     },
     "metadata": {
      "needs_background": "light"
     },
     "output_type": "display_data"
    }
   ],
   "source": [
    "import seaborn as sns\n",
    "bins = np.linspace(df.V_YEAR.min(), df.V_YEAR.max(), 24)\n",
    "g = sns.FacetGrid(df, col=\"P_SEX\", hue=\"C_SEV\", palette=\"Set1\", col_wrap=2)\n",
    "g.map(plt.hist, 'V_YEAR', bins=bins, ec=\"k\", alpha=0.5)\n",
    "g.axes[-1].legend()\n",
    "plt.show()"
   ]
  },
  {
   "cell_type": "code",
   "execution_count": 38,
   "metadata": {},
   "outputs": [
    {
     "data": {
      "image/png": "[encoded data removed]",
      "text/plain": [
       "<Figure size 432x216 with 2 Axes>"
      ]
     },
     "metadata": {
      "needs_background": "light"
     },
     "output_type": "display_data"
    }
   ],
   "source": [
    "import seaborn as sns\n",
    "bins = np.linspace(df.P_AGE.min(), df.P_AGE.max(), 60)\n",
    "g = sns.FacetGrid(df, col=\"P_SEX\", hue=\"C_SEV\", palette=\"Set1\", col_wrap=2)\n",
    "g.map(plt.hist, 'P_AGE', bins=bins, ec=\"k\", alpha=0.5)\n",
    "g.axes[-1].legend()\n",
    "plt.show()"
   ]
  },
  {
   "cell_type": "code",
   "execution_count": 39,
   "metadata": {
    "scrolled": true
   },
   "outputs": [
    {
     "data": {
      "image/png": "[encoded data removed]",
      "text/plain": [
       "<Figure size 432x216 with 2 Axes>"
      ]
     },
     "metadata": {
      "needs_background": "light"
     },
     "output_type": "display_data"
    }
   ],
   "source": [
    "import seaborn as sns\n",
    "bins = np.linspace(df.P_PSN.min(), 15, 15)\n",
    "g = sns.FacetGrid(df, col=\"P_SEX\", hue=\"C_SEV\", palette=\"Set1\", col_wrap=2)\n",
    "g.map(plt.hist, 'P_PSN', bins=bins, ec=\"k\", alpha=0.5)\n",
    "g.axes[-1].legend()\n",
    "plt.show()"
   ]
  },
  {
   "cell_type": "code",
   "execution_count": 40,
   "metadata": {},
   "outputs": [
    {
     "data": {
      "image/png": "[encoded data removed]",
      "text/plain": [
       "<Figure size 432x216 with 2 Axes>"
      ]
     },
     "metadata": {
      "needs_background": "light"
     },
     "output_type": "display_data"
    }
   ],
   "source": [
    "import seaborn as sns\n",
    "bins = np.linspace(df.P_ISEV.min(), df.P_ISEV.max(), 4)\n",
    "g = sns.FacetGrid(df, col=\"P_SEX\", hue=\"C_SEV\", palette=\"Set1\", col_wrap=2)\n",
    "g.map(plt.hist, 'P_ISEV', bins=bins, ec=\"k\", alpha=0.5)\n",
    "g.axes[-1].legend()\n",
    "plt.show()"
   ]
  },
  {
   "cell_type": "code",
   "execution_count": 41,
   "metadata": {},
   "outputs": [
    {
     "data": {
      "image/png": "[encoded data removed]",
      "text/plain": [
       "<Figure size 432x216 with 2 Axes>"
      ]
     },
     "metadata": {
      "needs_background": "light"
     },
     "output_type": "display_data"
    }
   ],
   "source": [
    "import seaborn as sns\n",
    "bins = np.linspace(df.P_SAFE.min(), df.P_SAFE.max(), 14)\n",
    "g = sns.FacetGrid(df, col=\"P_SEX\", hue=\"C_SEV\", palette=\"Set1\", col_wrap=2)\n",
    "g.map(plt.hist, 'P_SAFE', bins=bins, ec=\"k\", alpha=0.5)\n",
    "g.axes[-1].legend()\n",
    "plt.show()"
   ]
  },
  {
   "cell_type": "code",
   "execution_count": 42,
   "metadata": {},
   "outputs": [
    {
     "data": {
      "image/png": "[encoded data removed]",
      "text/plain": [
       "<Figure size 432x216 with 2 Axes>"
      ]
     },
     "metadata": {
      "needs_background": "light"
     },
     "output_type": "display_data"
    }
   ],
   "source": [
    "import seaborn as sns\n",
    "bins = np.linspace(df.P_USER.min(), df.P_USER.max(), 6)\n",
    "g = sns.FacetGrid(df, col=\"P_SEX\", hue=\"C_SEV\", palette=\"Set1\", col_wrap=2)\n",
    "g.map(plt.hist, 'P_USER', bins=bins, ec=\"k\", alpha=0.5)\n",
    "g.axes[-1].legend()\n",
    "plt.show()"
   ]
  },
  {
   "cell_type": "markdown",
   "metadata": {},
   "source": [
    "# 3. Feature Engineering and Feature Selection\n",
    "Improve performance of machine learning models.\n",
    "\n",
    "##  3.1 Feature Engineering\n",
    "### Reduce the number of levels for categorical variables"
   ]
  },
  {
   "cell_type": "markdown",
   "metadata": {},
   "source": [
    "After selecting the important features, in this section, I performed feature engineering and feature selection to make the features either be binary or categorical, and have integer data types. This improved the predictability of the models. "
   ]
  },
  {
   "cell_type": "code",
   "execution_count": 44,
   "metadata": {},
   "outputs": [],
   "source": [
    "#Collision hour equals 1 when between 6 to 10, equals 2 when between 10-15, equals 3 when between 16-21, equals 4 during else times. \n",
    "df['C_HOUR'] = df['C_HOUR'].apply(lambda x: 1 if (6<=x<=9) else (2 if (10<=x<=15) else (3 if (16<=x<=21) else 4)))"
   ]
  },
  {
   "cell_type": "code",
   "execution_count": 45,
   "metadata": {},
   "outputs": [],
   "source": [
    "#Number of vehicles involved in collision equals 1 when between 0 to 10, equals 2 when between 11-17, equals 3 when between 18-23. \n",
    "df['C_VEHS'] = df['C_VEHS'].apply(lambda x: 1 if (1<=x<=3) else 0)"
   ]
  },
  {
   "cell_type": "code",
   "execution_count": 46,
   "metadata": {},
   "outputs": [],
   "source": [
    "#Collision configuration equals 1 when code is between 0 to 10 (single vehicle in motion), \n",
    "#equals 2 when between 20-30 (Two Vehicles in Motion - Same Direction of Travel), \n",
    "#equals 3 when between above 30 (Two Vehicles in Motion - Different Direction of Travel and Two Vehicles - Hit a Parked Motor Vehicle). \n",
    "df['C_CONF'] = df['C_CONF'].apply(lambda x: 1 if (1<=x<=10) else (2 if (20<=x<=30) else 3))"
   ]
  },
  {
   "cell_type": "code",
   "execution_count": 47,
   "metadata": {},
   "outputs": [],
   "source": [
    "#Roadway configuration equals 1 when code is 1 (Non-intersection), \n",
    "#equals 2 for all other codes.\n",
    "df['C_RCFG'] = df['C_RCFG'].apply(lambda x: 1 if (x==1) else 2)"
   ]
  },
  {
   "cell_type": "code",
   "execution_count": 48,
   "metadata": {},
   "outputs": [],
   "source": [
    "#Weather condition equals 1 when code is 1 (Clear and sunny), \n",
    "#equals 2 for all other codes/whethers.\n",
    "df['C_WTHR'] = df['C_WTHR'].apply(lambda x: 1 if (x==1) else 0)"
   ]
  },
  {
   "cell_type": "code",
   "execution_count": 49,
   "metadata": {},
   "outputs": [],
   "source": [
    "#Road surface equals 1 when code is 1 (Dry, normal), \n",
    "#equals 2 for all other codes/Road surfaces.\n",
    "df['C_RSUR'] = df['C_RSUR'].apply(lambda x: 1 if (x==1) else 0)"
   ]
  },
  {
   "cell_type": "code",
   "execution_count": 50,
   "metadata": {},
   "outputs": [],
   "source": [
    "#Road alignment equals 1 when code is 1 (Straight and level), \n",
    "#equals 2 for all other codes/Road alignment.\n",
    "df['C_RALN'] = df['C_RALN'].apply(lambda x: 1 if (x==1) else 0)"
   ]
  },
  {
   "cell_type": "code",
   "execution_count": 51,
   "metadata": {},
   "outputs": [],
   "source": [
    "#Traffic control equals 1 when code is 18 (No control present), \n",
    "#equals 2 for all other codes.\n",
    "df['C_TRAF'] = df['C_TRAF'].apply(lambda x: 1 if (x==18) else 2)"
   ]
  },
  {
   "cell_type": "code",
   "execution_count": 52,
   "metadata": {},
   "outputs": [],
   "source": [
    "#Vehicle type equals 1 when code is 1 (Light Duty Vehicle), \n",
    "#equals 2 for all other codes/Vehicle types.\n",
    "df['V_TYPE'] = df['V_TYPE'].apply(lambda x: 1 if (x==1) else 0)"
   ]
  },
  {
   "cell_type": "code",
   "execution_count": 53,
   "metadata": {},
   "outputs": [],
   "source": [
    "#Vehicle model year equals 1 if manufactured between 2010 to 2020, \n",
    "#equals 2 when manufactured between 2000 to 2009, \n",
    "#equals 3 for vehicles manufactured prior to 2000.\n",
    "df['V_YEAR'] = df['V_YEAR'].apply(lambda x: 1 if (2010<=x<=2020) else (2 if (2000<=x<=2009) else 3))"
   ]
  },
  {
   "cell_type": "code",
   "execution_count": 54,
   "metadata": {},
   "outputs": [],
   "source": [
    "#Person age equals 1 if person younger than 25, \n",
    "#equals 2 if between 26 to 60 years old, \n",
    "#equals 3 if older than 60.\n",
    "df['P_AGE'] = df['P_AGE'].apply(lambda x: 1 if (x<=25) else (2 if (26<=x<=60) else 3))"
   ]
  },
  {
   "cell_type": "code",
   "execution_count": 55,
   "metadata": {},
   "outputs": [],
   "source": [
    "#Person position equals 1 when code is 11 or 13 (Driver or Front row, right outboard, including motorcycle passenger in sidecar), \n",
    "#equals 2 for all other codes/Person positions.\n",
    "df['P_PSN'] = df['P_PSN'].apply(lambda x: 1 if (x==11 or x==13) else 0)"
   ]
  },
  {
   "cell_type": "code",
   "execution_count": 56,
   "metadata": {},
   "outputs": [],
   "source": [
    "#Safety device used equals 1 when code is 2, 9, 10, 11, or 12 (various Safety device used), \n",
    "#equals 2 for No safety device used/required.\n",
    "df['P_SAFE'] = df['P_SAFE'].apply(lambda x: 1 if (x==2 or x==9 or x==10 or x==11 or x==12) else 0)"
   ]
  },
  {
   "cell_type": "code",
   "execution_count": 57,
   "metadata": {},
   "outputs": [],
   "source": [
    "#Road user class equals 1 when code is 1 or 2 (Motor Vehicle Driver/Passenger), \n",
    "#equals 2 for all other codes/Road users.\n",
    "df['P_USER'] = df['P_USER'].apply(lambda x: 1 if (x==1 or x==2) else 0)"
   ]
  },
  {
   "cell_type": "markdown",
   "metadata": {
    "button": false,
    "new_sheet": false,
    "run_control": {
     "read_only": false
    }
   },
   "source": [
    "### Convert Categorical Feature with object dtype to Numerical Values"
   ]
  },
  {
   "cell_type": "markdown",
   "metadata": {
    "button": false,
    "new_sheet": false,
    "run_control": {
     "read_only": false
    }
   },
   "source": [
    "Lets look at gender:"
   ]
  },
  {
   "cell_type": "code",
   "execution_count": 58,
   "metadata": {
    "button": false,
    "new_sheet": false,
    "run_control": {
     "read_only": false
    }
   },
   "outputs": [
    {
     "data": {
      "text/plain": [
       "P_SEX  C_SEV\n",
       "F      2        0.630866\n",
       "       1        0.369134\n",
       "M      1        0.506408\n",
       "       2        0.493592\n",
       "Name: C_SEV, dtype: float64"
      ]
     },
     "execution_count": 58,
     "metadata": {},
     "output_type": "execute_result"
    }
   ],
   "source": [
    "df.groupby(['P_SEX'])['C_SEV'].value_counts(normalize=True)"
   ]
  },
  {
   "cell_type": "markdown",
   "metadata": {
    "button": false,
    "new_sheet": false,
    "run_control": {
     "read_only": false
    }
   },
   "source": [
    "Females are more likely to have non-fatal collision, compared to male."
   ]
  },
  {
   "cell_type": "markdown",
   "metadata": {
    "button": false,
    "new_sheet": false,
    "run_control": {
     "read_only": false
    }
   },
   "source": [
    "Lets convert male to 0 and female to 1:\n"
   ]
  },
  {
   "cell_type": "code",
   "execution_count": 59,
   "metadata": {
    "button": false,
    "new_sheet": false,
    "run_control": {
     "read_only": false
    }
   },
   "outputs": [
    {
     "data": {
      "text/html": [
       "<div>\n",
       "<style scoped>\n",
       "    .dataframe tbody tr th:only-of-type {\n",
       "        vertical-align: middle;\n",
       "    }\n",
       "\n",
       "    .dataframe tbody tr th {\n",
       "        vertical-align: top;\n",
       "    }\n",
       "\n",
       "    .dataframe thead th {\n",
       "        text-align: right;\n",
       "    }\n",
       "</style>\n",
       "<table border=\"1\" class=\"dataframe\">\n",
       "  <thead>\n",
       "    <tr style=\"text-align: right;\">\n",
       "      <th></th>\n",
       "      <th>C_YEAR</th>\n",
       "      <th>C_MNTH</th>\n",
       "      <th>C_WDAY</th>\n",
       "      <th>C_HOUR</th>\n",
       "      <th>C_SEV</th>\n",
       "      <th>C_VEHS</th>\n",
       "      <th>C_CONF</th>\n",
       "      <th>C_RCFG</th>\n",
       "      <th>C_WTHR</th>\n",
       "      <th>C_RSUR</th>\n",
       "      <th>...</th>\n",
       "      <th>V_TYPE</th>\n",
       "      <th>V_YEAR</th>\n",
       "      <th>P_ID</th>\n",
       "      <th>P_SEX</th>\n",
       "      <th>P_AGE</th>\n",
       "      <th>P_PSN</th>\n",
       "      <th>P_ISEV</th>\n",
       "      <th>P_SAFE</th>\n",
       "      <th>P_USER</th>\n",
       "      <th>C_CASE</th>\n",
       "    </tr>\n",
       "  </thead>\n",
       "  <tbody>\n",
       "    <tr>\n",
       "      <th>578</th>\n",
       "      <td>2017</td>\n",
       "      <td>1</td>\n",
       "      <td>1</td>\n",
       "      <td>4</td>\n",
       "      <td>1</td>\n",
       "      <td>1</td>\n",
       "      <td>3</td>\n",
       "      <td>1</td>\n",
       "      <td>1</td>\n",
       "      <td>1</td>\n",
       "      <td>...</td>\n",
       "      <td>1</td>\n",
       "      <td>2</td>\n",
       "      <td>01</td>\n",
       "      <td>0</td>\n",
       "      <td>3</td>\n",
       "      <td>1</td>\n",
       "      <td>3</td>\n",
       "      <td>1</td>\n",
       "      <td>1</td>\n",
       "      <td>2478585</td>\n",
       "    </tr>\n",
       "    <tr>\n",
       "      <th>579</th>\n",
       "      <td>2017</td>\n",
       "      <td>1</td>\n",
       "      <td>1</td>\n",
       "      <td>4</td>\n",
       "      <td>1</td>\n",
       "      <td>1</td>\n",
       "      <td>3</td>\n",
       "      <td>1</td>\n",
       "      <td>1</td>\n",
       "      <td>1</td>\n",
       "      <td>...</td>\n",
       "      <td>0</td>\n",
       "      <td>1</td>\n",
       "      <td>01</td>\n",
       "      <td>0</td>\n",
       "      <td>2</td>\n",
       "      <td>1</td>\n",
       "      <td>1</td>\n",
       "      <td>1</td>\n",
       "      <td>1</td>\n",
       "      <td>2478585</td>\n",
       "    </tr>\n",
       "    <tr>\n",
       "      <th>638</th>\n",
       "      <td>2017</td>\n",
       "      <td>1</td>\n",
       "      <td>1</td>\n",
       "      <td>4</td>\n",
       "      <td>1</td>\n",
       "      <td>1</td>\n",
       "      <td>1</td>\n",
       "      <td>1</td>\n",
       "      <td>0</td>\n",
       "      <td>1</td>\n",
       "      <td>...</td>\n",
       "      <td>1</td>\n",
       "      <td>2</td>\n",
       "      <td>01</td>\n",
       "      <td>0</td>\n",
       "      <td>1</td>\n",
       "      <td>1</td>\n",
       "      <td>3</td>\n",
       "      <td>0</td>\n",
       "      <td>1</td>\n",
       "      <td>2481696</td>\n",
       "    </tr>\n",
       "    <tr>\n",
       "      <th>639</th>\n",
       "      <td>2017</td>\n",
       "      <td>1</td>\n",
       "      <td>1</td>\n",
       "      <td>4</td>\n",
       "      <td>1</td>\n",
       "      <td>1</td>\n",
       "      <td>1</td>\n",
       "      <td>1</td>\n",
       "      <td>0</td>\n",
       "      <td>1</td>\n",
       "      <td>...</td>\n",
       "      <td>1</td>\n",
       "      <td>2</td>\n",
       "      <td>02</td>\n",
       "      <td>0</td>\n",
       "      <td>2</td>\n",
       "      <td>1</td>\n",
       "      <td>2</td>\n",
       "      <td>0</td>\n",
       "      <td>1</td>\n",
       "      <td>2481696</td>\n",
       "    </tr>\n",
       "    <tr>\n",
       "      <th>1006</th>\n",
       "      <td>2017</td>\n",
       "      <td>1</td>\n",
       "      <td>1</td>\n",
       "      <td>4</td>\n",
       "      <td>1</td>\n",
       "      <td>1</td>\n",
       "      <td>3</td>\n",
       "      <td>2</td>\n",
       "      <td>0</td>\n",
       "      <td>0</td>\n",
       "      <td>...</td>\n",
       "      <td>1</td>\n",
       "      <td>2</td>\n",
       "      <td>01</td>\n",
       "      <td>0</td>\n",
       "      <td>3</td>\n",
       "      <td>1</td>\n",
       "      <td>3</td>\n",
       "      <td>1</td>\n",
       "      <td>1</td>\n",
       "      <td>2490524</td>\n",
       "    </tr>\n",
       "  </tbody>\n",
       "</table>\n",
       "<p>5 rows × 23 columns</p>\n",
       "</div>"
      ],
      "text/plain": [
       "      C_YEAR  C_MNTH  C_WDAY  C_HOUR  C_SEV  C_VEHS  C_CONF  C_RCFG  C_WTHR  \\\n",
       "578     2017       1       1       4      1       1       3       1       1   \n",
       "579     2017       1       1       4      1       1       3       1       1   \n",
       "638     2017       1       1       4      1       1       1       1       0   \n",
       "639     2017       1       1       4      1       1       1       1       0   \n",
       "1006    2017       1       1       4      1       1       3       2       0   \n",
       "\n",
       "      C_RSUR  ...  V_TYPE  V_YEAR P_ID  P_SEX  P_AGE P_PSN  P_ISEV  P_SAFE  \\\n",
       "578        1  ...       1       2   01      0      3     1       3       1   \n",
       "579        1  ...       0       1   01      0      2     1       1       1   \n",
       "638        1  ...       1       2   01      0      1     1       3       0   \n",
       "639        1  ...       1       2   02      0      2     1       2       0   \n",
       "1006       0  ...       1       2   01      0      3     1       3       1   \n",
       "\n",
       "      P_USER   C_CASE  \n",
       "578        1  2478585  \n",
       "579        1  2478585  \n",
       "638        1  2481696  \n",
       "639        1  2481696  \n",
       "1006       1  2490524  \n",
       "\n",
       "[5 rows x 23 columns]"
      ]
     },
     "execution_count": 59,
     "metadata": {},
     "output_type": "execute_result"
    }
   ],
   "source": [
    "df['P_SEX'].replace(to_replace=['M','F'], value=[0,1],inplace=True)\n",
    "df.head()"
   ]
  },
  {
   "cell_type": "markdown",
   "metadata": {},
   "source": [
    "### One Hot Encoding"
   ]
  },
  {
   "cell_type": "code",
   "execution_count": 60,
   "metadata": {},
   "outputs": [
    {
     "data": {
      "text/html": [
       "<div>\n",
       "<style scoped>\n",
       "    .dataframe tbody tr th:only-of-type {\n",
       "        vertical-align: middle;\n",
       "    }\n",
       "\n",
       "    .dataframe tbody tr th {\n",
       "        vertical-align: top;\n",
       "    }\n",
       "\n",
       "    .dataframe thead th {\n",
       "        text-align: right;\n",
       "    }\n",
       "</style>\n",
       "<table border=\"1\" class=\"dataframe\">\n",
       "  <thead>\n",
       "    <tr style=\"text-align: right;\">\n",
       "      <th></th>\n",
       "      <th>C_VEHS</th>\n",
       "      <th>C_RCFG</th>\n",
       "      <th>C_RSUR</th>\n",
       "      <th>C_RALN</th>\n",
       "      <th>C_TRAF</th>\n",
       "      <th>V_TYPE</th>\n",
       "      <th>P_SEX</th>\n",
       "      <th>P_AGE</th>\n",
       "      <th>P_PSN</th>\n",
       "      <th>P_ISEV</th>\n",
       "    </tr>\n",
       "  </thead>\n",
       "  <tbody>\n",
       "    <tr>\n",
       "      <th>578</th>\n",
       "      <td>1</td>\n",
       "      <td>1</td>\n",
       "      <td>1</td>\n",
       "      <td>1</td>\n",
       "      <td>1</td>\n",
       "      <td>1</td>\n",
       "      <td>0</td>\n",
       "      <td>3</td>\n",
       "      <td>1</td>\n",
       "      <td>3</td>\n",
       "    </tr>\n",
       "    <tr>\n",
       "      <th>579</th>\n",
       "      <td>1</td>\n",
       "      <td>1</td>\n",
       "      <td>1</td>\n",
       "      <td>1</td>\n",
       "      <td>1</td>\n",
       "      <td>0</td>\n",
       "      <td>0</td>\n",
       "      <td>2</td>\n",
       "      <td>1</td>\n",
       "      <td>1</td>\n",
       "    </tr>\n",
       "    <tr>\n",
       "      <th>638</th>\n",
       "      <td>1</td>\n",
       "      <td>1</td>\n",
       "      <td>1</td>\n",
       "      <td>1</td>\n",
       "      <td>1</td>\n",
       "      <td>1</td>\n",
       "      <td>0</td>\n",
       "      <td>1</td>\n",
       "      <td>1</td>\n",
       "      <td>3</td>\n",
       "    </tr>\n",
       "    <tr>\n",
       "      <th>639</th>\n",
       "      <td>1</td>\n",
       "      <td>1</td>\n",
       "      <td>1</td>\n",
       "      <td>1</td>\n",
       "      <td>1</td>\n",
       "      <td>1</td>\n",
       "      <td>0</td>\n",
       "      <td>2</td>\n",
       "      <td>1</td>\n",
       "      <td>2</td>\n",
       "    </tr>\n",
       "    <tr>\n",
       "      <th>1006</th>\n",
       "      <td>1</td>\n",
       "      <td>2</td>\n",
       "      <td>0</td>\n",
       "      <td>1</td>\n",
       "      <td>2</td>\n",
       "      <td>1</td>\n",
       "      <td>0</td>\n",
       "      <td>3</td>\n",
       "      <td>1</td>\n",
       "      <td>3</td>\n",
       "    </tr>\n",
       "  </tbody>\n",
       "</table>\n",
       "</div>"
      ],
      "text/plain": [
       "      C_VEHS  C_RCFG  C_RSUR  C_RALN  C_TRAF  V_TYPE  P_SEX  P_AGE  P_PSN  \\\n",
       "578        1       1       1       1       1       1      0      3      1   \n",
       "579        1       1       1       1       1       0      0      2      1   \n",
       "638        1       1       1       1       1       1      0      1      1   \n",
       "639        1       1       1       1       1       1      0      2      1   \n",
       "1006       1       2       0       1       2       1      0      3      1   \n",
       "\n",
       "      P_ISEV  \n",
       "578        3  \n",
       "579        1  \n",
       "638        3  \n",
       "639        2  \n",
       "1006       3  "
      ]
     },
     "execution_count": 60,
     "metadata": {},
     "output_type": "execute_result"
    }
   ],
   "source": [
    "# Let df Feature contains all the binary variables.\n",
    "Feature = df[['C_VEHS','C_RCFG','C_RSUR','C_RALN','C_TRAF','V_TYPE','P_SEX','P_AGE','P_PSN','P_ISEV']]\n",
    "Feature.head()"
   ]
  },
  {
   "cell_type": "markdown",
   "metadata": {},
   "source": [
    "Use one hot encoding technique to conver categorical varables to binary variables and append them to the feature Data Frame"
   ]
  },
  {
   "cell_type": "code",
   "execution_count": 61,
   "metadata": {},
   "outputs": [],
   "source": [
    "Feature = pd.concat([Feature,pd.get_dummies(df['C_HOUR'],prefix='C_HOUR')], axis=1)"
   ]
  },
  {
   "cell_type": "code",
   "execution_count": 62,
   "metadata": {},
   "outputs": [],
   "source": [
    "Feature = pd.concat([Feature,pd.get_dummies(df['C_CONF'],prefix='C_CONF')], axis=1)"
   ]
  },
  {
   "cell_type": "markdown",
   "metadata": {
    "button": false,
    "new_sheet": false,
    "run_control": {
     "read_only": false
    }
   },
   "source": [
    "## 2.2 Feature selection"
   ]
  },
  {
   "cell_type": "markdown",
   "metadata": {
    "button": false,
    "new_sheet": false,
    "run_control": {
     "read_only": false
    }
   },
   "source": [
    "Lets defind feature sets, X:"
   ]
  },
  {
   "cell_type": "code",
   "execution_count": 63,
   "metadata": {
    "button": false,
    "new_sheet": false,
    "run_control": {
     "read_only": false
    }
   },
   "outputs": [
    {
     "data": {
      "text/html": [
       "<div>\n",
       "<style scoped>\n",
       "    .dataframe tbody tr th:only-of-type {\n",
       "        vertical-align: middle;\n",
       "    }\n",
       "\n",
       "    .dataframe tbody tr th {\n",
       "        vertical-align: top;\n",
       "    }\n",
       "\n",
       "    .dataframe thead th {\n",
       "        text-align: right;\n",
       "    }\n",
       "</style>\n",
       "<table border=\"1\" class=\"dataframe\">\n",
       "  <thead>\n",
       "    <tr style=\"text-align: right;\">\n",
       "      <th></th>\n",
       "      <th>C_VEHS</th>\n",
       "      <th>C_RCFG</th>\n",
       "      <th>C_RSUR</th>\n",
       "      <th>C_RALN</th>\n",
       "      <th>C_TRAF</th>\n",
       "      <th>V_TYPE</th>\n",
       "      <th>P_SEX</th>\n",
       "      <th>P_AGE</th>\n",
       "      <th>P_PSN</th>\n",
       "      <th>P_ISEV</th>\n",
       "      <th>C_HOUR_4</th>\n",
       "      <th>C_CONF_1</th>\n",
       "      <th>C_CONF_2</th>\n",
       "      <th>C_CONF_3</th>\n",
       "    </tr>\n",
       "  </thead>\n",
       "  <tbody>\n",
       "    <tr>\n",
       "      <th>578</th>\n",
       "      <td>1</td>\n",
       "      <td>1</td>\n",
       "      <td>1</td>\n",
       "      <td>1</td>\n",
       "      <td>1</td>\n",
       "      <td>1</td>\n",
       "      <td>0</td>\n",
       "      <td>3</td>\n",
       "      <td>1</td>\n",
       "      <td>3</td>\n",
       "      <td>1</td>\n",
       "      <td>0</td>\n",
       "      <td>0</td>\n",
       "      <td>1</td>\n",
       "    </tr>\n",
       "    <tr>\n",
       "      <th>579</th>\n",
       "      <td>1</td>\n",
       "      <td>1</td>\n",
       "      <td>1</td>\n",
       "      <td>1</td>\n",
       "      <td>1</td>\n",
       "      <td>0</td>\n",
       "      <td>0</td>\n",
       "      <td>2</td>\n",
       "      <td>1</td>\n",
       "      <td>1</td>\n",
       "      <td>1</td>\n",
       "      <td>0</td>\n",
       "      <td>0</td>\n",
       "      <td>1</td>\n",
       "    </tr>\n",
       "    <tr>\n",
       "      <th>638</th>\n",
       "      <td>1</td>\n",
       "      <td>1</td>\n",
       "      <td>1</td>\n",
       "      <td>1</td>\n",
       "      <td>1</td>\n",
       "      <td>1</td>\n",
       "      <td>0</td>\n",
       "      <td>1</td>\n",
       "      <td>1</td>\n",
       "      <td>3</td>\n",
       "      <td>1</td>\n",
       "      <td>1</td>\n",
       "      <td>0</td>\n",
       "      <td>0</td>\n",
       "    </tr>\n",
       "    <tr>\n",
       "      <th>639</th>\n",
       "      <td>1</td>\n",
       "      <td>1</td>\n",
       "      <td>1</td>\n",
       "      <td>1</td>\n",
       "      <td>1</td>\n",
       "      <td>1</td>\n",
       "      <td>0</td>\n",
       "      <td>2</td>\n",
       "      <td>1</td>\n",
       "      <td>2</td>\n",
       "      <td>1</td>\n",
       "      <td>1</td>\n",
       "      <td>0</td>\n",
       "      <td>0</td>\n",
       "    </tr>\n",
       "    <tr>\n",
       "      <th>1006</th>\n",
       "      <td>1</td>\n",
       "      <td>2</td>\n",
       "      <td>0</td>\n",
       "      <td>1</td>\n",
       "      <td>2</td>\n",
       "      <td>1</td>\n",
       "      <td>0</td>\n",
       "      <td>3</td>\n",
       "      <td>1</td>\n",
       "      <td>3</td>\n",
       "      <td>1</td>\n",
       "      <td>0</td>\n",
       "      <td>0</td>\n",
       "      <td>1</td>\n",
       "    </tr>\n",
       "  </tbody>\n",
       "</table>\n",
       "</div>"
      ],
      "text/plain": [
       "      C_VEHS  C_RCFG  C_RSUR  C_RALN  C_TRAF  V_TYPE  P_SEX  P_AGE  P_PSN  \\\n",
       "578        1       1       1       1       1       1      0      3      1   \n",
       "579        1       1       1       1       1       0      0      2      1   \n",
       "638        1       1       1       1       1       1      0      1      1   \n",
       "639        1       1       1       1       1       1      0      2      1   \n",
       "1006       1       2       0       1       2       1      0      3      1   \n",
       "\n",
       "      P_ISEV  C_HOUR_4  C_CONF_1  C_CONF_2  C_CONF_3  \n",
       "578        3         1         0         0         1  \n",
       "579        1         1         0         0         1  \n",
       "638        3         1         1         0         0  \n",
       "639        2         1         1         0         0  \n",
       "1006       3         1         0         0         1  "
      ]
     },
     "execution_count": 63,
     "metadata": {},
     "output_type": "execute_result"
    }
   ],
   "source": [
    "X = Feature\n",
    "X[0:5]"
   ]
  },
  {
   "cell_type": "markdown",
   "metadata": {
    "button": false,
    "new_sheet": false,
    "run_control": {
     "read_only": false
    }
   },
   "source": [
    "Our labels are:"
   ]
  },
  {
   "cell_type": "code",
   "execution_count": 64,
   "metadata": {
    "button": false,
    "new_sheet": false,
    "run_control": {
     "read_only": false
    }
   },
   "outputs": [
    {
     "data": {
      "text/plain": [
       "array([1, 1, 1, 1, 1])"
      ]
     },
     "execution_count": 64,
     "metadata": {},
     "output_type": "execute_result"
    }
   ],
   "source": [
    "y = df['C_SEV'].values\n",
    "y[0:5]"
   ]
  },
  {
   "cell_type": "markdown",
   "metadata": {
    "button": false,
    "new_sheet": false,
    "run_control": {
     "read_only": false
    }
   },
   "source": [
    "### Normalize Data "
   ]
  },
  {
   "cell_type": "markdown",
   "metadata": {
    "button": false,
    "new_sheet": false,
    "run_control": {
     "read_only": false
    }
   },
   "source": [
    "Data Standardization give data zero mean and unit variance (technically should be done after train test split )"
   ]
  },
  {
   "cell_type": "code",
   "execution_count": null,
   "metadata": {
    "button": false,
    "new_sheet": false,
    "run_control": {
     "read_only": false
    }
   },
   "outputs": [],
   "source": [
    "X= preprocessing.StandardScaler().fit(X).transform(X)\n",
    "X[0:5]"
   ]
  },
  {
   "cell_type": "markdown",
   "metadata": {
    "button": false,
    "new_sheet": false,
    "run_control": {
     "read_only": false
    }
   },
   "source": [
    "# 3. Classification "
   ]
  },
  {
   "cell_type": "markdown",
   "metadata": {
    "button": false,
    "new_sheet": false,
    "run_control": {
     "read_only": false
    }
   },
   "source": [
    "Use the training set to build an accurate model. Then use the test set to report the accuracy of the model\n",
    "Use the following algorithm:\n",
    "- K Nearest Neighbor(KNN)\n",
    "- Decision Tree\n",
    "- Support Vector Machine\n",
    "- Logistic Regression"
   ]
  },
  {
   "cell_type": "code",
   "execution_count": 66,
   "metadata": {},
   "outputs": [],
   "source": [
    "from sklearn.metrics import jaccard_similarity_score\n",
    "from sklearn.metrics import f1_score\n",
    "from sklearn.metrics import log_loss"
   ]
  },
  {
   "cell_type": "markdown",
   "metadata": {},
   "source": [
    "## 3.1 K Nearest Neighbor(KNN)\n",
    "Find the best k to build the model with the best accuracy.  "
   ]
  },
  {
   "cell_type": "code",
   "execution_count": 67,
   "metadata": {},
   "outputs": [
    {
     "name": "stdout",
     "output_type": "stream",
     "text": [
      "Train set: (4088, 14) (4088,)\n",
      "Test set: (1022, 14) (1022,)\n"
     ]
    }
   ],
   "source": [
    "from sklearn.model_selection import train_test_split\n",
    "X_train, X_test, y_train, y_test = train_test_split( X, y, test_size=0.2, random_state=4)\n",
    "print ('Train set:', X_train.shape,  y_train.shape)\n",
    "print ('Test set:', X_test.shape,  y_test.shape)"
   ]
  },
  {
   "cell_type": "code",
   "execution_count": 68,
   "metadata": {},
   "outputs": [],
   "source": [
    "from sklearn.neighbors import KNeighborsClassifier\n",
    "from sklearn import metrics"
   ]
  },
  {
   "cell_type": "code",
   "execution_count": 69,
   "metadata": {},
   "outputs": [
    {
     "data": {
      "text/plain": [
       "array([0.70058708, 0.67514677, 0.74168297, 0.74266145, 0.74266145,\n",
       "       0.75342466, 0.74853229, 0.75636008, 0.75636008])"
      ]
     },
     "execution_count": 69,
     "metadata": {},
     "output_type": "execute_result"
    }
   ],
   "source": [
    "Ks = 10\n",
    "mean_acc = np.zeros((Ks-1))\n",
    "std_acc = np.zeros((Ks-1))\n",
    "ConfustionMx = [];\n",
    "for n in range(1,Ks):\n",
    "    \n",
    "    #Train Model and Predict  \n",
    "    neigh = KNeighborsClassifier(n_neighbors = n).fit(X_train,y_train)\n",
    "    yhat=neigh.predict(X_test)\n",
    "    mean_acc[n-1] = metrics.accuracy_score(y_test, yhat)\n",
    "\n",
    "    \n",
    "    std_acc[n-1]=np.std(yhat==y_test)/np.sqrt(yhat.shape[0])\n",
    "\n",
    "mean_acc"
   ]
  },
  {
   "cell_type": "code",
   "execution_count": 98,
   "metadata": {},
   "outputs": [
    {
     "data": {
      "image/png": "[encoded data removed]",
      "text/plain": [
       "<Figure size 432x288 with 1 Axes>"
      ]
     },
     "metadata": {
      "needs_background": "light"
     },
     "output_type": "display_data"
    }
   ],
   "source": [
    "plt.plot(range(1,Ks),mean_acc,'g')\n",
    "plt.fill_between(range(1,Ks),mean_acc - 1 * std_acc,mean_acc + 1 * std_acc, alpha=0.10)\n",
    "plt.legend(('Accuracy ', '+/- 3xstd'))\n",
    "plt.ylabel('Accuracy ')\n",
    "plt.xlabel('Number of Neighbours (K)')\n",
    "plt.tight_layout()\n",
    "plt.show()"
   ]
  },
  {
   "cell_type": "code",
   "execution_count": 71,
   "metadata": {},
   "outputs": [
    {
     "name": "stdout",
     "output_type": "stream",
     "text": [
      "The best accuracy was with 0.7563600782778865 with k= 8\n"
     ]
    }
   ],
   "source": [
    "print( \"The best accuracy was with\", mean_acc.max(), \"with k=\", mean_acc.argmax()+1) "
   ]
  },
  {
   "cell_type": "code",
   "execution_count": 104,
   "metadata": {},
   "outputs": [
    {
     "name": "stdout",
     "output_type": "stream",
     "text": [
      "Train set Accuracy:  0.7932974559686888\n",
      "Test set Accuracy:  0.7563600782778865\n"
     ]
    }
   ],
   "source": [
    "k = 8\n",
    "KNN_Model = KNeighborsClassifier(n_neighbors = k).fit(X_train,y_train)\n",
    "KNN_Model_yhat = KNN_Model.predict(X_test)\n",
    "print(\"Train set Accuracy: \", metrics.accuracy_score(y_train, KNN_Model.predict(X_train)))\n",
    "print(\"Test set Accuracy: \", metrics.accuracy_score(y_test, KNN_Model_yhat))"
   ]
  },
  {
   "cell_type": "code",
   "execution_count": 105,
   "metadata": {},
   "outputs": [
    {
     "data": {
      "text/plain": [
       "0.7563600782778865"
      ]
     },
     "execution_count": 105,
     "metadata": {},
     "output_type": "execute_result"
    }
   ],
   "source": [
    "jaccard_similarity_score(y_test, KNN_Model_yhat)"
   ]
  },
  {
   "cell_type": "code",
   "execution_count": 106,
   "metadata": {},
   "outputs": [
    {
     "data": {
      "text/plain": [
       "0.7558402453407335"
      ]
     },
     "execution_count": 106,
     "metadata": {},
     "output_type": "execute_result"
    }
   ],
   "source": [
    "f1_score(y_test, KNN_Model_yhat, average='weighted') "
   ]
  },
  {
   "cell_type": "markdown",
   "metadata": {},
   "source": [
    "## 3.2 Decision Tree"
   ]
  },
  {
   "cell_type": "code",
   "execution_count": 75,
   "metadata": {},
   "outputs": [
    {
     "data": {
      "text/plain": [
       "DecisionTreeClassifier(class_weight=None, criterion='entropy', max_depth=None,\n",
       "            max_features=None, max_leaf_nodes=None,\n",
       "            min_impurity_decrease=0.0, min_impurity_split=None,\n",
       "            min_samples_leaf=1, min_samples_split=2,\n",
       "            min_weight_fraction_leaf=0.0, presort=False, random_state=None,\n",
       "            splitter='best')"
      ]
     },
     "execution_count": 75,
     "metadata": {},
     "output_type": "execute_result"
    }
   ],
   "source": [
    "from sklearn.tree import DecisionTreeClassifier\n",
    "DT_Model = DecisionTreeClassifier(criterion=\"entropy\")  #, max_depth = 4\n",
    "DT_Model"
   ]
  },
  {
   "cell_type": "code",
   "execution_count": 76,
   "metadata": {},
   "outputs": [
    {
     "data": {
      "text/plain": [
       "DecisionTreeClassifier(class_weight=None, criterion='entropy', max_depth=None,\n",
       "            max_features=None, max_leaf_nodes=None,\n",
       "            min_impurity_decrease=0.0, min_impurity_split=None,\n",
       "            min_samples_leaf=1, min_samples_split=2,\n",
       "            min_weight_fraction_leaf=0.0, presort=False, random_state=None,\n",
       "            splitter='best')"
      ]
     },
     "execution_count": 76,
     "metadata": {},
     "output_type": "execute_result"
    }
   ],
   "source": [
    "DT_Model.fit(X_train,y_train)"
   ]
  },
  {
   "cell_type": "code",
   "execution_count": 77,
   "metadata": {},
   "outputs": [],
   "source": [
    "DT_Model.fit(X_train,y_train)\n",
    "DT_Model_yhat = DT_Model.predict(X_test)"
   ]
  },
  {
   "cell_type": "code",
   "execution_count": 108,
   "metadata": {},
   "outputs": [
    {
     "name": "stdout",
     "output_type": "stream",
     "text": [
      "DecisionTrees's Accuracy:  0.7837573385518591\n"
     ]
    }
   ],
   "source": [
    "#print(\"DecisionTrees's Accuracy: \", metrics.accuracy_score(y_train, DT_Model.predict(X_train)))\n",
    "print(\"DecisionTrees's Accuracy: \", metrics.accuracy_score(y_test, DT_Model_yhat))"
   ]
  },
  {
   "cell_type": "code",
   "execution_count": 79,
   "metadata": {},
   "outputs": [
    {
     "data": {
      "text/plain": [
       "0.7837573385518591"
      ]
     },
     "execution_count": 79,
     "metadata": {},
     "output_type": "execute_result"
    }
   ],
   "source": [
    "jaccard_similarity_score(y_test, DT_Model_yhat)"
   ]
  },
  {
   "cell_type": "code",
   "execution_count": 80,
   "metadata": {},
   "outputs": [
    {
     "data": {
      "text/plain": [
       "0.7833480174168534"
      ]
     },
     "execution_count": 80,
     "metadata": {},
     "output_type": "execute_result"
    }
   ],
   "source": [
    "f1_score(y_test, DT_Model_yhat, average='weighted') "
   ]
  },
  {
   "cell_type": "markdown",
   "metadata": {},
   "source": [
    "## 3.3 Support Vector Machine"
   ]
  },
  {
   "cell_type": "code",
   "execution_count": null,
   "metadata": {},
   "outputs": [],
   "source": [
    "from sklearn import svm\n",
    "SVM_Model = svm.SVC(kernel='rbf')\n",
    "SVM_Model.fit(X_train, y_train) "
   ]
  },
  {
   "cell_type": "code",
   "execution_count": 86,
   "metadata": {},
   "outputs": [
    {
     "data": {
      "text/plain": [
       "SVC(C=1.0, cache_size=200, class_weight=None, coef0=0.0,\n",
       "  decision_function_shape='ovr', degree=3, gamma='auto_deprecated',\n",
       "  kernel='rbf', max_iter=-1, probability=False, random_state=None,\n",
       "  shrinking=True, tol=0.001, verbose=False)"
      ]
     },
     "execution_count": 86,
     "metadata": {},
     "output_type": "execute_result"
    }
   ],
   "source": [
    "SVM_Model_yhat = SVM_Model.predict(X_test)\n",
    "SVM_Model"
   ]
  },
  {
   "cell_type": "code",
   "execution_count": 87,
   "metadata": {},
   "outputs": [
    {
     "name": "stdout",
     "output_type": "stream",
     "text": [
      "SVM's Accuracy:  0.8033268101761253\n"
     ]
    }
   ],
   "source": [
    "print(\"SVM's Accuracy: \", metrics.accuracy_score(y_test, SVM_Model_yhat))"
   ]
  },
  {
   "cell_type": "code",
   "execution_count": 88,
   "metadata": {},
   "outputs": [
    {
     "data": {
      "text/plain": [
       "0.8033268101761253"
      ]
     },
     "execution_count": 88,
     "metadata": {},
     "output_type": "execute_result"
    }
   ],
   "source": [
    "jaccard_similarity_score(y_test, SVM_Model_yhat)"
   ]
  },
  {
   "cell_type": "code",
   "execution_count": 89,
   "metadata": {},
   "outputs": [
    {
     "data": {
      "text/plain": [
       "0.8018601492293259"
      ]
     },
     "execution_count": 89,
     "metadata": {},
     "output_type": "execute_result"
    }
   ],
   "source": [
    "f1_score(y_test, SVM_Model_yhat, average='weighted') "
   ]
  },
  {
   "cell_type": "markdown",
   "metadata": {},
   "source": [
    "## 3.4 Logistic Regression"
   ]
  },
  {
   "cell_type": "code",
   "execution_count": 90,
   "metadata": {},
   "outputs": [
    {
     "data": {
      "text/plain": [
       "LogisticRegression(C=0.01, class_weight=None, dual=False, fit_intercept=True,\n",
       "          intercept_scaling=1, max_iter=100, multi_class='warn',\n",
       "          n_jobs=None, penalty='l2', random_state=None, solver='liblinear',\n",
       "          tol=0.0001, verbose=0, warm_start=False)"
      ]
     },
     "execution_count": 90,
     "metadata": {},
     "output_type": "execute_result"
    }
   ],
   "source": [
    "from sklearn.linear_model import LogisticRegression\n",
    "LR_Model = LogisticRegression(C=0.01, solver='liblinear').fit(X_train,y_train)\n",
    "LR_Model"
   ]
  },
  {
   "cell_type": "code",
   "execution_count": 91,
   "metadata": {},
   "outputs": [
    {
     "data": {
      "text/plain": [
       "array([2, 2, 2, ..., 2, 2, 1])"
      ]
     },
     "execution_count": 91,
     "metadata": {},
     "output_type": "execute_result"
    }
   ],
   "source": [
    "LR_Model_yhat = LR_Model.predict(X_test)\n",
    "LR_Model_yhat"
   ]
  },
  {
   "cell_type": "code",
   "execution_count": 92,
   "metadata": {},
   "outputs": [
    {
     "data": {
      "text/plain": [
       "array([[0.09349416, 0.90650584],\n",
       "       [0.31876568, 0.68123432],\n",
       "       [0.49914468, 0.50085532],\n",
       "       ...,\n",
       "       [0.41246198, 0.58753802],\n",
       "       [0.46144609, 0.53855391],\n",
       "       [0.67410303, 0.32589697]])"
      ]
     },
     "execution_count": 92,
     "metadata": {},
     "output_type": "execute_result"
    }
   ],
   "source": [
    "LR_Model_yhat_prob = LR_Model.predict_proba(X_test)\n",
    "LR_Model_yhat_prob"
   ]
  },
  {
   "cell_type": "code",
   "execution_count": 93,
   "metadata": {},
   "outputs": [
    {
     "name": "stdout",
     "output_type": "stream",
     "text": [
      "Logistic Regression's Accuracy:  0.7661448140900196\n"
     ]
    }
   ],
   "source": [
    "print(\"Logistic Regression's Accuracy: \", metrics.accuracy_score(y_test, LR_Model_yhat))"
   ]
  },
  {
   "cell_type": "code",
   "execution_count": 94,
   "metadata": {},
   "outputs": [
    {
     "data": {
      "text/plain": [
       "0.7661448140900196"
      ]
     },
     "execution_count": 94,
     "metadata": {},
     "output_type": "execute_result"
    }
   ],
   "source": [
    "jaccard_similarity_score(y_test, LR_Model_yhat)"
   ]
  },
  {
   "cell_type": "code",
   "execution_count": 95,
   "metadata": {},
   "outputs": [
    {
     "data": {
      "text/plain": [
       "0.7651281837227512"
      ]
     },
     "execution_count": 95,
     "metadata": {},
     "output_type": "execute_result"
    }
   ],
   "source": [
    "f1_score(y_test, LR_Model_yhat, average='weighted') "
   ]
  },
  {
   "cell_type": "code",
   "execution_count": 96,
   "metadata": {},
   "outputs": [
    {
     "data": {
      "text/plain": [
       "0.5160189197962292"
      ]
     },
     "execution_count": 96,
     "metadata": {},
     "output_type": "execute_result"
    }
   ],
   "source": [
    "log_loss(y_test, LR_Model_yhat_prob)"
   ]
  },
  {
   "cell_type": "markdown",
   "metadata": {},
   "source": [
    "# 4. Report and Conclusion\n",
    "Report the evaluation metrics and accuracy of the built models:"
   ]
  },
  {
   "cell_type": "markdown",
   "metadata": {},
   "source": [
    "| Algorithm          | Accuracy  | Jaccard  | F1-score  | LogLoss |\n",
    "|--------------------|-----------|----------|-----------|---------|\n",
    "| KNN                | 0.7564    | 0.7564   | 0.7558    | NA      |\n",
    "| Decision Tree      | 0.7838    | 0.7838   | 0.7833    | NA      |\n",
    "| SVM                | 0.8033    | 0.8033   | 0.8028    | NA      |\n",
    "| LogisticRegression | 0.7661    | 0.7661   | 0.7651    | 0.5160  |"
   ]
  },
  {
   "cell_type": "markdown",
   "metadata": {},
   "source": [
    "The table above concludes that the SVM algorithm produces the highest accuracy of prediction of 80%."
   ]
  },
  {
   "cell_type": "markdown",
   "metadata": {},
   "source": [
    "Thank you for reading this report!"
   ]
  }
 ],
 "metadata": {
  "kernelspec": {
   "display_name": "Python 3",
   "language": "python",
   "name": "python3"
  },
  "language_info": {
   "codemirror_mode": {
    "name": "ipython",
    "version": 3
   },
   "file_extension": ".py",
   "mimetype": "text/x-python",
   "name": "python",
   "nbconvert_exporter": "python",
   "pygments_lexer": "ipython3",
   "version": "3.8.3"
  }
 },
 "nbformat": 4,
 "nbformat_minor": 2
}
